{
  "cells": [
    {
      "cell_type": "code",
      "execution_count": null,
      "metadata": {
        "id": "CqJsi5gz8_3z"
      },
      "outputs": [],
      "source": [
        "'''\n",
        "=================================================\n",
        "Graded Challenge 2\n",
        "\n",
        "Nama  : Kelvin Rizky Novsa\n",
        "Batch : RMT-028\n",
        "\n",
        "Program ini digunakan dan bertujuan untuk membantu divisi Finance dalam mengolah dan mengatur\n",
        "data divisi finance. Program ini membuat database berbasis PostgreSQL server,\n",
        "yang mana isi database berasal dari database dengan format csv. Dengan demikian,\n",
        "database divisi finance yang dahulu dikelola dan diatur menggunakan Microsoft Excel,\n",
        "menjadi database dengan server PostgreSQL\n",
        "=================================================\n",
        "'''"
      ]
    },
    {
      "cell_type": "markdown",
      "metadata": {
        "id": "XTpzDY_hCJL4"
      },
      "source": [
        "#1. Data Exploration\n",
        "\n",
        "Dalam tahapan ini, database yang diberikan dari divisi manager diidentifikasi supaya membantu data engineer untuk memahami kumpulan data, mengidentifikasi pola, dan mendapatkan gambaran atau wawasan dari database untuk dapat digunakan oleh divisi finance."
      ]
    },
    {
      "cell_type": "markdown",
      "metadata": {
        "id": "0jQrFDeEOftY"
      },
      "source": [
        "##Jawaban A"
      ]
    },
    {
      "cell_type": "code",
      "execution_count": 1,
      "metadata": {
        "colab": {
          "base_uri": "https://localhost:8080/",
          "height": 1219
        },
        "id": "oAy2emru84-g",
        "outputId": "a078f0f5-e523-431d-d6c3-14de1e0cd70d"
      },
      "outputs": [
        {
          "data": {
            "text/html": [
              "<div>\n",
              "<style scoped>\n",
              "    .dataframe tbody tr th:only-of-type {\n",
              "        vertical-align: middle;\n",
              "    }\n",
              "\n",
              "    .dataframe tbody tr th {\n",
              "        vertical-align: top;\n",
              "    }\n",
              "\n",
              "    .dataframe thead th {\n",
              "        text-align: right;\n",
              "    }\n",
              "</style>\n",
              "<table border=\"1\" class=\"dataframe\">\n",
              "  <thead>\n",
              "    <tr style=\"text-align: right;\">\n",
              "      <th></th>\n",
              "      <th>Segment</th>\n",
              "      <th>Country</th>\n",
              "      <th>Product</th>\n",
              "      <th>Discount Band</th>\n",
              "      <th>Units Sold</th>\n",
              "      <th>Manufacturing Price</th>\n",
              "      <th>Sale Price</th>\n",
              "      <th>Gross Sales</th>\n",
              "      <th>Discounts</th>\n",
              "      <th>Sales</th>\n",
              "      <th>COGS</th>\n",
              "      <th>Profit</th>\n",
              "      <th>Date</th>\n",
              "      <th>Month Number</th>\n",
              "      <th>Month Name</th>\n",
              "      <th>Year</th>\n",
              "    </tr>\n",
              "  </thead>\n",
              "  <tbody>\n",
              "    <tr>\n",
              "      <th>0</th>\n",
              "      <td>Government</td>\n",
              "      <td>Canada</td>\n",
              "      <td>Carretera</td>\n",
              "      <td>None</td>\n",
              "      <td>$1,618.50</td>\n",
              "      <td>$3.00</td>\n",
              "      <td>$20.00</td>\n",
              "      <td>$32,370.00</td>\n",
              "      <td>$-</td>\n",
              "      <td>$32,370.00</td>\n",
              "      <td>$16,185.00</td>\n",
              "      <td>$16,185.00</td>\n",
              "      <td>01/01/2014</td>\n",
              "      <td>1</td>\n",
              "      <td>January</td>\n",
              "      <td>2014</td>\n",
              "    </tr>\n",
              "    <tr>\n",
              "      <th>1</th>\n",
              "      <td>Government</td>\n",
              "      <td>Germany</td>\n",
              "      <td>Carretera</td>\n",
              "      <td>None</td>\n",
              "      <td>$1,321.00</td>\n",
              "      <td>$3.00</td>\n",
              "      <td>$20.00</td>\n",
              "      <td>$26,420.00</td>\n",
              "      <td>$-</td>\n",
              "      <td>$26,420.00</td>\n",
              "      <td>$13,210.00</td>\n",
              "      <td>$13,210.00</td>\n",
              "      <td>01/01/2014</td>\n",
              "      <td>1</td>\n",
              "      <td>January</td>\n",
              "      <td>2014</td>\n",
              "    </tr>\n",
              "    <tr>\n",
              "      <th>2</th>\n",
              "      <td>Midmarket</td>\n",
              "      <td>France</td>\n",
              "      <td>Carretera</td>\n",
              "      <td>None</td>\n",
              "      <td>$2,178.00</td>\n",
              "      <td>$3.00</td>\n",
              "      <td>$15.00</td>\n",
              "      <td>$32,670.00</td>\n",
              "      <td>$-</td>\n",
              "      <td>$32,670.00</td>\n",
              "      <td>$21,780.00</td>\n",
              "      <td>$10,890.00</td>\n",
              "      <td>01/06/2014</td>\n",
              "      <td>6</td>\n",
              "      <td>June</td>\n",
              "      <td>2014</td>\n",
              "    </tr>\n",
              "    <tr>\n",
              "      <th>3</th>\n",
              "      <td>Midmarket</td>\n",
              "      <td>Germany</td>\n",
              "      <td>Carretera</td>\n",
              "      <td>None</td>\n",
              "      <td>$888.00</td>\n",
              "      <td>$3.00</td>\n",
              "      <td>$15.00</td>\n",
              "      <td>$13,320.00</td>\n",
              "      <td>$-</td>\n",
              "      <td>$13,320.00</td>\n",
              "      <td>$8,880.00</td>\n",
              "      <td>$4,440.00</td>\n",
              "      <td>01/06/2014</td>\n",
              "      <td>6</td>\n",
              "      <td>June</td>\n",
              "      <td>2014</td>\n",
              "    </tr>\n",
              "    <tr>\n",
              "      <th>4</th>\n",
              "      <td>Midmarket</td>\n",
              "      <td>Mexico</td>\n",
              "      <td>Carretera</td>\n",
              "      <td>None</td>\n",
              "      <td>$2,470.00</td>\n",
              "      <td>$3.00</td>\n",
              "      <td>$15.00</td>\n",
              "      <td>$37,050.00</td>\n",
              "      <td>$-</td>\n",
              "      <td>$37,050.00</td>\n",
              "      <td>$24,700.00</td>\n",
              "      <td>$12,350.00</td>\n",
              "      <td>01/06/2014</td>\n",
              "      <td>6</td>\n",
              "      <td>June</td>\n",
              "      <td>2014</td>\n",
              "    </tr>\n",
              "    <tr>\n",
              "      <th>...</th>\n",
              "      <td>...</td>\n",
              "      <td>...</td>\n",
              "      <td>...</td>\n",
              "      <td>...</td>\n",
              "      <td>...</td>\n",
              "      <td>...</td>\n",
              "      <td>...</td>\n",
              "      <td>...</td>\n",
              "      <td>...</td>\n",
              "      <td>...</td>\n",
              "      <td>...</td>\n",
              "      <td>...</td>\n",
              "      <td>...</td>\n",
              "      <td>...</td>\n",
              "      <td>...</td>\n",
              "      <td>...</td>\n",
              "    </tr>\n",
              "    <tr>\n",
              "      <th>695</th>\n",
              "      <td>Small Business</td>\n",
              "      <td>France</td>\n",
              "      <td>Amarilla</td>\n",
              "      <td>High</td>\n",
              "      <td>$2,475.00</td>\n",
              "      <td>$260.00</td>\n",
              "      <td>$300.00</td>\n",
              "      <td>$7,42,500.00</td>\n",
              "      <td>$1,11,375.00</td>\n",
              "      <td>$6,31,125.00</td>\n",
              "      <td>$6,18,750.00</td>\n",
              "      <td>$12,375.00</td>\n",
              "      <td>01/03/2014</td>\n",
              "      <td>3</td>\n",
              "      <td>March</td>\n",
              "      <td>2014</td>\n",
              "    </tr>\n",
              "    <tr>\n",
              "      <th>696</th>\n",
              "      <td>Small Business</td>\n",
              "      <td>Mexico</td>\n",
              "      <td>Amarilla</td>\n",
              "      <td>High</td>\n",
              "      <td>$546.00</td>\n",
              "      <td>$260.00</td>\n",
              "      <td>$300.00</td>\n",
              "      <td>$1,63,800.00</td>\n",
              "      <td>$24,570.00</td>\n",
              "      <td>$1,39,230.00</td>\n",
              "      <td>$1,36,500.00</td>\n",
              "      <td>$2,730.00</td>\n",
              "      <td>01/10/2014</td>\n",
              "      <td>10</td>\n",
              "      <td>October</td>\n",
              "      <td>2014</td>\n",
              "    </tr>\n",
              "    <tr>\n",
              "      <th>697</th>\n",
              "      <td>Government</td>\n",
              "      <td>Mexico</td>\n",
              "      <td>Montana</td>\n",
              "      <td>High</td>\n",
              "      <td>$1,368.00</td>\n",
              "      <td>$5.00</td>\n",
              "      <td>$7.00</td>\n",
              "      <td>$9,576.00</td>\n",
              "      <td>$1,436.40</td>\n",
              "      <td>$8,139.60</td>\n",
              "      <td>$6,840.00</td>\n",
              "      <td>$1,299.60</td>\n",
              "      <td>01/02/2014</td>\n",
              "      <td>2</td>\n",
              "      <td>February</td>\n",
              "      <td>2014</td>\n",
              "    </tr>\n",
              "    <tr>\n",
              "      <th>698</th>\n",
              "      <td>Government</td>\n",
              "      <td>Canada</td>\n",
              "      <td>Paseo</td>\n",
              "      <td>High</td>\n",
              "      <td>$723.00</td>\n",
              "      <td>$10.00</td>\n",
              "      <td>$7.00</td>\n",
              "      <td>$5,061.00</td>\n",
              "      <td>$759.15</td>\n",
              "      <td>$4,301.85</td>\n",
              "      <td>$3,615.00</td>\n",
              "      <td>$686.85</td>\n",
              "      <td>01/04/2014</td>\n",
              "      <td>4</td>\n",
              "      <td>April</td>\n",
              "      <td>2014</td>\n",
              "    </tr>\n",
              "    <tr>\n",
              "      <th>699</th>\n",
              "      <td>Channel Partners</td>\n",
              "      <td>United States of America</td>\n",
              "      <td>VTT</td>\n",
              "      <td>High</td>\n",
              "      <td>$1,806.00</td>\n",
              "      <td>$250.00</td>\n",
              "      <td>$12.00</td>\n",
              "      <td>$21,672.00</td>\n",
              "      <td>$3,250.80</td>\n",
              "      <td>$18,421.20</td>\n",
              "      <td>$5,418.00</td>\n",
              "      <td>$13,003.20</td>\n",
              "      <td>01/05/2014</td>\n",
              "      <td>5</td>\n",
              "      <td>May</td>\n",
              "      <td>2014</td>\n",
              "    </tr>\n",
              "  </tbody>\n",
              "</table>\n",
              "<p>700 rows × 16 columns</p>\n",
              "</div>"
            ],
            "text/plain": [
              "              Segment                   Country     Product   Discount Band   \\\n",
              "0          Government                    Canada   Carretera            None    \n",
              "1          Government                   Germany   Carretera            None    \n",
              "2           Midmarket                    France   Carretera            None    \n",
              "3           Midmarket                   Germany   Carretera            None    \n",
              "4           Midmarket                    Mexico   Carretera            None    \n",
              "..                ...                       ...          ...             ...   \n",
              "695    Small Business                    France    Amarilla            High    \n",
              "696    Small Business                    Mexico    Amarilla            High    \n",
              "697        Government                    Mexico     Montana            High    \n",
              "698        Government                    Canada       Paseo            High    \n",
              "699  Channel Partners  United States of America         VTT            High    \n",
              "\n",
              "     Units Sold   Manufacturing Price   Sale Price     Gross Sales   \\\n",
              "0     $1,618.50                 $3.00       $20.00      $32,370.00    \n",
              "1     $1,321.00                 $3.00       $20.00      $26,420.00    \n",
              "2     $2,178.00                 $3.00       $15.00      $32,670.00    \n",
              "3       $888.00                 $3.00       $15.00      $13,320.00    \n",
              "4     $2,470.00                 $3.00       $15.00      $37,050.00    \n",
              "..           ...                   ...          ...             ...   \n",
              "695   $2,475.00               $260.00      $300.00    $7,42,500.00    \n",
              "696     $546.00               $260.00      $300.00    $1,63,800.00    \n",
              "697   $1,368.00                 $5.00        $7.00       $9,576.00    \n",
              "698     $723.00                $10.00        $7.00       $5,061.00    \n",
              "699   $1,806.00               $250.00       $12.00      $21,672.00    \n",
              "\n",
              "         Discounts           Sales            COGS        Profit         Date  \\\n",
              "0             $-        $32,370.00      $16,185.00    $16,185.00   01/01/2014   \n",
              "1             $-        $26,420.00      $13,210.00    $13,210.00   01/01/2014   \n",
              "2             $-        $32,670.00      $21,780.00    $10,890.00   01/06/2014   \n",
              "3             $-        $13,320.00       $8,880.00     $4,440.00   01/06/2014   \n",
              "4             $-        $37,050.00      $24,700.00    $12,350.00   01/06/2014   \n",
              "..              ...             ...             ...           ...         ...   \n",
              "695   $1,11,375.00    $6,31,125.00    $6,18,750.00    $12,375.00   01/03/2014   \n",
              "696     $24,570.00    $1,39,230.00    $1,36,500.00     $2,730.00   01/10/2014   \n",
              "697      $1,436.40       $8,139.60       $6,840.00     $1,299.60   01/02/2014   \n",
              "698        $759.15       $4,301.85       $3,615.00       $686.85   01/04/2014   \n",
              "699      $3,250.80      $18,421.20       $5,418.00    $13,003.20   01/05/2014   \n",
              "\n",
              "     Month Number  Month Name   Year  \n",
              "0               1     January   2014  \n",
              "1               1     January   2014  \n",
              "2               6        June   2014  \n",
              "3               6        June   2014  \n",
              "4               6        June   2014  \n",
              "..            ...          ...   ...  \n",
              "695             3       March   2014  \n",
              "696            10     October   2014  \n",
              "697             2    February   2014  \n",
              "698             4       April   2014  \n",
              "699             5         May   2014  \n",
              "\n",
              "[700 rows x 16 columns]"
            ]
          },
          "execution_count": 1,
          "metadata": {},
          "output_type": "execute_result"
        }
      ],
      "source": [
        "import pandas as pd\n",
        "file_path = 'https://raw.githubusercontent.com/FTDS-learning-materials/phase-0/main/src/Financials.csv'\n",
        "databaseFinance = pd.read_csv(file_path)\n",
        "\n",
        "databaseFinance"
      ]
    },
    {
      "cell_type": "markdown",
      "metadata": {
        "id": "_yFrpwNVOhg0"
      },
      "source": [
        "##Jawaban B"
      ]
    },
    {
      "cell_type": "markdown",
      "metadata": {
        "id": "6bktKiJ8M0b3"
      },
      "source": [
        "Melakukan impor data library pandas agar dapat melakukan analisis ekplorasi data. Kemudian dalam pandas disingkat menjadi pd untuk mempermudah memanggil pandas dalam membuat syntax. Kemudian, data engineer melakukan penampilan data dari database divisi Finance agar dapat melihat, memahami, dan mengindentifikasi pola data. Dengan demikian, database dari divisi manager berhasil ditampilkan dengan menggunakan library pandas dengan format csv."
      ]
    },
    {
      "cell_type": "code",
      "execution_count": 2,
      "metadata": {
        "colab": {
          "base_uri": "https://localhost:8080/"
        },
        "id": "zG2mlfQ2__ed",
        "outputId": "92d3a9bf-0c40-4f9c-84e7-bf340fdcc308"
      },
      "outputs": [
        {
          "name": "stdout",
          "output_type": "stream",
          "text": [
            "<class 'pandas.core.frame.DataFrame'>\n",
            "RangeIndex: 700 entries, 0 to 699\n",
            "Data columns (total 16 columns):\n",
            " #   Column                 Non-Null Count  Dtype \n",
            "---  ------                 --------------  ----- \n",
            " 0   Segment                700 non-null    object\n",
            " 1   Country                700 non-null    object\n",
            " 2    Product               700 non-null    object\n",
            " 3    Discount Band         700 non-null    object\n",
            " 4    Units Sold            700 non-null    object\n",
            " 5    Manufacturing Price   700 non-null    object\n",
            " 6    Sale Price            700 non-null    object\n",
            " 7    Gross Sales           700 non-null    object\n",
            " 8    Discounts             700 non-null    object\n",
            " 9     Sales                700 non-null    object\n",
            " 10   COGS                  700 non-null    object\n",
            " 11   Profit                700 non-null    object\n",
            " 12  Date                   700 non-null    object\n",
            " 13  Month Number           700 non-null    int64 \n",
            " 14   Month Name            700 non-null    object\n",
            " 15  Year                   700 non-null    int64 \n",
            "dtypes: int64(2), object(14)\n",
            "memory usage: 87.6+ KB\n"
          ]
        }
      ],
      "source": [
        "databaseFinance.info()"
      ]
    },
    {
      "cell_type": "markdown",
      "metadata": {
        "id": "7AmJrOMgOJSy"
      },
      "source": [
        "Ketika menjalankan databaseFinance.info(), didapat sebuah informasi bahwa terdapat 700 baris dan 16 kolom di dalam database. Pada 16 kolom tersebut, terdiri dari kolom Segment, Country, Product, Discount Band, Units Sold, Manufacturing Price, Sale Price, Gross Sales, Discounts, Sales, COGS, Profit, Date, Month Number, Month Name, dan Year. Kemudian terdapat informasi tipe data yang digunakan tiap kolom, dimana terdapat 2 tipe data integer dan 14 tipe data string. Jika dilihat secara detail, terdapat sebuah informasi yang penting karena terdapat kolom yang seharusnya tidak menggunakan tipe data yang ditampilkan di summary data, sebagai contohnya seharusnya menggunakan tipe data integer(kolom Unit Sold, Manufacturing Price, dll), bukan menggunakan tipe data string(object), dan ada kolom yang harusnya menggunakan tipe data date(Date) bukan menggunakan data integer ataupun string(object). Oleh karena itu, perlu dilakukan pengubahan tipe data di dalam kolom yang seharunya menggunakan tipe data seharusnya untuk dapat diolah dan dianalisis."
      ]
    },
    {
      "cell_type": "markdown",
      "metadata": {
        "id": "DYX8u2ZjO3GW"
      },
      "source": [
        "##Jawaban C"
      ]
    },
    {
      "cell_type": "code",
      "execution_count": 3,
      "metadata": {
        "colab": {
          "base_uri": "https://localhost:8080/"
        },
        "id": "2OZi78mA_RDk",
        "outputId": "ad02ac73-f188-4d87-972b-9f1560eb9586"
      },
      "outputs": [
        {
          "data": {
            "text/plain": [
              "Index(['Segment', 'Country', ' Product ', ' Discount Band ', ' Units Sold ',\n",
              "       ' Manufacturing Price ', ' Sale Price ', ' Gross Sales ', ' Discounts ',\n",
              "       '  Sales ', ' COGS ', ' Profit ', 'Date', 'Month Number',\n",
              "       ' Month Name ', 'Year'],\n",
              "      dtype='object')"
            ]
          },
          "execution_count": 3,
          "metadata": {},
          "output_type": "execute_result"
        }
      ],
      "source": [
        "databaseFinance.columns"
      ]
    },
    {
      "cell_type": "markdown",
      "metadata": {
        "id": "PGxtyMg1RL09"
      },
      "source": [
        "Berdasarkan databaseFinance.columns, terdapat 16 kolom utama, yang mana sudah dijelaskan pada tahapan sebelumnya. Kemudian, terdapat sebuah temuan dimana terdapat sebuah whitespace di beberapa nama kolom di database. Hal tersebut dapat mengganggu pengolahan data di tahapan selanjutnya karena akan nama kolom yang seharusnya menjadi tidak jalan karena adanyan whitespace. Oleh karena itu, di tahapan cleaning data, dapat melakukan penghapusan whitespace pada nama-nama kolom di dalam database."
      ]
    },
    {
      "cell_type": "markdown",
      "metadata": {
        "id": "fDvpv9OEPapc"
      },
      "source": [
        "##Jawaban D"
      ]
    },
    {
      "cell_type": "code",
      "execution_count": 4,
      "metadata": {
        "colab": {
          "base_uri": "https://localhost:8080/"
        },
        "id": "qmqGZy6LC_3g",
        "outputId": "615f30ec-cfb3-4009-e1f9-b04590aa8013"
      },
      "outputs": [
        {
          "data": {
            "text/plain": [
              "array(['Government', 'Midmarket', 'Channel Partners', 'Enterprise',\n",
              "       'Small Business'], dtype=object)"
            ]
          },
          "execution_count": 4,
          "metadata": {},
          "output_type": "execute_result"
        }
      ],
      "source": [
        "databaseFinance['Segment'].unique()"
      ]
    },
    {
      "cell_type": "markdown",
      "metadata": {
        "id": "5RrWjnWeSUSP"
      },
      "source": [
        "Di tahapan ini, data engineer ingin melihat data unik dibeberapa kolom yang sudah ditentukan, seperti kolom Segment, Country, Product, dan Discount Band. Berdasarkan databaseFinance['Segment'].unique(), didapatkan informasi bahwa terdapat 5 nilai di dalam kolom segment. Nilai unik tersebut diantaranya adalah 'Government', 'Midmarket', 'Channel Partners', 'Enterprise', dan 'Small Business'. Tipe data yang digunakan adalah tipe data string."
      ]
    },
    {
      "cell_type": "code",
      "execution_count": 5,
      "metadata": {
        "colab": {
          "base_uri": "https://localhost:8080/"
        },
        "id": "_GKg-f0fEg8G",
        "outputId": "903093b2-df90-4ff1-bb28-3ec7d4bbcbe4"
      },
      "outputs": [
        {
          "data": {
            "text/plain": [
              "array(['Canada', 'Germany', 'France', 'Mexico',\n",
              "       'United States of America'], dtype=object)"
            ]
          },
          "execution_count": 5,
          "metadata": {},
          "output_type": "execute_result"
        }
      ],
      "source": [
        "databaseFinance['Country'].unique()"
      ]
    },
    {
      "cell_type": "markdown",
      "metadata": {
        "id": "pXRINFtDToJD"
      },
      "source": [
        "Berdasarkan databaseFinance['Country'].unique(), didapatkan informasi bahwa terdapat 5 nilai di dalam kolom segment. Nilai unik tersebut diantaranya adalah 'Canada', 'Germany', 'France', 'Mexico', 'United States of America'. Tipe data yang digunakan adalah tipe data string"
      ]
    },
    {
      "cell_type": "code",
      "execution_count": 6,
      "metadata": {
        "colab": {
          "base_uri": "https://localhost:8080/"
        },
        "id": "-RDjAYZMEgV_",
        "outputId": "1eb49a0c-bd16-456e-bca4-0ac2e75cabff"
      },
      "outputs": [
        {
          "data": {
            "text/plain": [
              "array([' Carretera ', ' Montana ', ' Paseo ', ' Velo ', ' VTT ',\n",
              "       ' Amarilla '], dtype=object)"
            ]
          },
          "execution_count": 6,
          "metadata": {},
          "output_type": "execute_result"
        }
      ],
      "source": [
        "databaseFinance[' Product '].unique()"
      ]
    },
    {
      "cell_type": "markdown",
      "metadata": {
        "id": "qJxoPpO4T3AG"
      },
      "source": [
        "Berdasarkan databaseFinance[' Product '].unique(), didapatkan informasi bahwa terdapat 5 nilai di dalam kolom segment. Nilai unik tersebut diantaranya adalah ' Carretera ', ' Montana ', ' Paseo ', ' Velo ', ' VTT ', ' Amarilla '. Tipe data yang digunakan adalah tipe data string"
      ]
    },
    {
      "cell_type": "code",
      "execution_count": 7,
      "metadata": {
        "colab": {
          "base_uri": "https://localhost:8080/"
        },
        "id": "28vERaLoEhOZ",
        "outputId": "56153f80-5f17-42f2-9d5b-19cfa990a726"
      },
      "outputs": [
        {
          "data": {
            "text/plain": [
              "array([' None ', ' Low ', ' Medium ', ' High '], dtype=object)"
            ]
          },
          "execution_count": 7,
          "metadata": {},
          "output_type": "execute_result"
        }
      ],
      "source": [
        "databaseFinance[' Discount Band '].unique()"
      ]
    },
    {
      "cell_type": "markdown",
      "metadata": {
        "id": "vrzKnYJaV3Fq"
      },
      "source": [
        "Berdasarkan databaseFinance[' Discount Band '].unique(), didapatkan informasi bahwa terdapat 5 nilai di dalam kolom segment. Nilai unik tersebut diantaranya adalah ' None ', ' Low ', ' Medium ', dan ' High '. Tipe data yang digunakan adalah tipe data string."
      ]
    },
    {
      "cell_type": "markdown",
      "metadata": {
        "id": "AAUIcTCAacYG"
      },
      "source": [
        "#2. Data Cleaning\n",
        "\n",
        "Dalam tahapan ini, data engineer melakukan pembersihan data berdasarkan informasi yang didapatkan dari data exploration. Adapun pembersiahn yang dilakukan seperti membersihkan whitespot pada nama kolom, mengubah tipe data pada kolom, dan lain-lain. Selain membersihkan data berdasarkan informasi dari data exploration, pemnbersihan data juga dapat mengganti nama kolom seperti kolom product menjadi product name dan lain-lain, serta melakukan Cek dan handling missing value. Dengan demikian, data didalam database sudah lebih baik untuk dapat diolah dan dianalisa."
      ]
    },
    {
      "cell_type": "markdown",
      "metadata": {
        "id": "CSi1UpOMgjS9"
      },
      "source": [
        "##Jawaban A"
      ]
    },
    {
      "cell_type": "code",
      "execution_count": 8,
      "metadata": {
        "id": "CyLFDAGTdnQU"
      },
      "outputs": [],
      "source": [
        "columns_to_drop = ['Month Number', ' Month Name ', 'Year']\n",
        "databaseFinance = databaseFinance.drop(columns=columns_to_drop)"
      ]
    },
    {
      "cell_type": "markdown",
      "metadata": {
        "id": "QNjGfhFddzvs"
      },
      "source": [
        "Melakukan drop pada kolom yang tidak dibutuhkan. Adapun kolom yang di drop seperti 'Month Number', 'Month Name', 'Year' karena kolom\" tersebut sudah diwakilkan pada kolom date yang sudah terdapat data bulan dan juga tahun. Langkah drop kolom dilakukan dengan cara membuat sebuah list yang berisi kolom\" yang akan di drop dan kemudian melakukan drop kolom dengan fungsi .drop(columns=columns_to_drop). Setelahnya membuat fungsi tersebut, kemudian fungsi untuk drop kolom tersebut dimasukkan ke dalam databaseFinance."
      ]
    },
    {
      "cell_type": "markdown",
      "metadata": {
        "id": "mb4jhrMIgs9D"
      },
      "source": [
        "## Jawaban B dan C"
      ]
    },
    {
      "cell_type": "code",
      "execution_count": 9,
      "metadata": {
        "colab": {
          "base_uri": "https://localhost:8080/"
        },
        "id": "yyhCBZ6hIqvU",
        "outputId": "3da285eb-74e2-45d3-af32-eaebb4e598fb"
      },
      "outputs": [
        {
          "name": "stdout",
          "output_type": "stream",
          "text": [
            "<class 'pandas.core.frame.DataFrame'>\n",
            "RangeIndex: 700 entries, 0 to 699\n",
            "Data columns (total 13 columns):\n",
            " #   Column               Non-Null Count  Dtype \n",
            "---  ------               --------------  ----- \n",
            " 0   Segment              700 non-null    object\n",
            " 1   Country              700 non-null    object\n",
            " 2   Product              700 non-null    object\n",
            " 3   Discount Band        700 non-null    object\n",
            " 4   Units Sold           700 non-null    object\n",
            " 5   Manufacturing Price  700 non-null    object\n",
            " 6   Sale Price           700 non-null    object\n",
            " 7   Gross Sales          700 non-null    object\n",
            " 8   Discounts            700 non-null    object\n",
            " 9   Sales                700 non-null    object\n",
            " 10  COGS                 700 non-null    object\n",
            " 11  Profit               700 non-null    object\n",
            " 12  Date                 700 non-null    object\n",
            "dtypes: object(13)\n",
            "memory usage: 71.2+ KB\n"
          ]
        }
      ],
      "source": [
        "databaseFinance.columns = databaseFinance.columns.str.strip()\n",
        "\n",
        "databaseFinance.info()"
      ]
    },
    {
      "cell_type": "markdown",
      "metadata": {
        "id": "biCLGkcJmMUF"
      },
      "source": [
        "Berdasarkan informasi diatas, data engineer ingin melakukan cleaning data berupa membersihkan whitespace pada nam-nama kolom yang ada di database. Cara yang dilakukan ada menggunakan fungsi str.strip() agar whitespace dihilangkan di dalam nama kolom database. Setelah dilakukan cleaning whitespace, data engineer ingin melakukan cek data dengan cara menggunakan info() dan cleaning data berhasil dilakukan seperti informasi diatas."
      ]
    },
    {
      "cell_type": "code",
      "execution_count": 10,
      "metadata": {
        "colab": {
          "base_uri": "https://localhost:8080/"
        },
        "id": "YwSqfCMk8csq",
        "outputId": "fbeeab0e-de01-42b4-dd6b-02c517e1a3fe"
      },
      "outputs": [
        {
          "name": "stdout",
          "output_type": "stream",
          "text": [
            "Profit\n",
            " $-             5\n",
            " $10,768.80     2\n",
            " $6,822.50      2\n",
            " $7,829.35      2\n",
            " $11,635.60     2\n",
            "               ..\n",
            " $(2,217.50)    1\n",
            " $415.54        1\n",
            " $8,323.00      1\n",
            " $4,653.36      1\n",
            " $13,003.20     1\n",
            "Name: count, Length: 557, dtype: int64\n"
          ]
        }
      ],
      "source": [
        "non_standard_missing_values = databaseFinance['Profit'].value_counts()\n",
        "print(non_standard_missing_values)\n"
      ]
    },
    {
      "cell_type": "markdown",
      "metadata": {
        "id": "qz3BDggGqfJQ"
      },
      "source": [
        "Berdasarkan olahan data diatas, terdapat sebuah non-missing value dan beberapa karakter seperti '(' dan ')' di dalam kolom data keuangan, salah satunya kolom Profit. Oleh karena itu, perlu dilakukan treatment agar tidak mengganggu proses olahan dan analisis data dengan cara melakukan inputasi 0 terhadap non-missing value tersebut dan menghilangkan karakter\" pada data-data keuangan."
      ]
    },
    {
      "cell_type": "code",
      "execution_count": 11,
      "metadata": {
        "colab": {
          "base_uri": "https://localhost:8080/",
          "height": 553
        },
        "id": "FsI9Dc0lw0yE",
        "outputId": "7edc27ea-a4f8-4511-a06d-d437cf9f1bcf"
      },
      "outputs": [
        {
          "data": {
            "text/html": [
              "<div>\n",
              "<style scoped>\n",
              "    .dataframe tbody tr th:only-of-type {\n",
              "        vertical-align: middle;\n",
              "    }\n",
              "\n",
              "    .dataframe tbody tr th {\n",
              "        vertical-align: top;\n",
              "    }\n",
              "\n",
              "    .dataframe thead th {\n",
              "        text-align: right;\n",
              "    }\n",
              "</style>\n",
              "<table border=\"1\" class=\"dataframe\">\n",
              "  <thead>\n",
              "    <tr style=\"text-align: right;\">\n",
              "      <th></th>\n",
              "      <th>Segment</th>\n",
              "      <th>Country</th>\n",
              "      <th>Product</th>\n",
              "      <th>Discount Band</th>\n",
              "      <th>Units Sold</th>\n",
              "      <th>Manufacturing Price</th>\n",
              "      <th>Sale Price</th>\n",
              "      <th>Gross Sales</th>\n",
              "      <th>Discounts</th>\n",
              "      <th>Sales</th>\n",
              "      <th>COGS</th>\n",
              "      <th>Profit</th>\n",
              "      <th>Date</th>\n",
              "    </tr>\n",
              "  </thead>\n",
              "  <tbody>\n",
              "    <tr>\n",
              "      <th>0</th>\n",
              "      <td>Government</td>\n",
              "      <td>Canada</td>\n",
              "      <td>Carretera</td>\n",
              "      <td>None</td>\n",
              "      <td>1618.5</td>\n",
              "      <td>3.0</td>\n",
              "      <td>20.0</td>\n",
              "      <td>32370.0</td>\n",
              "      <td>0.00</td>\n",
              "      <td>32370.00</td>\n",
              "      <td>16185.0</td>\n",
              "      <td>16185.00</td>\n",
              "      <td>01/01/2014</td>\n",
              "    </tr>\n",
              "    <tr>\n",
              "      <th>1</th>\n",
              "      <td>Government</td>\n",
              "      <td>Germany</td>\n",
              "      <td>Carretera</td>\n",
              "      <td>None</td>\n",
              "      <td>1321.0</td>\n",
              "      <td>3.0</td>\n",
              "      <td>20.0</td>\n",
              "      <td>26420.0</td>\n",
              "      <td>0.00</td>\n",
              "      <td>26420.00</td>\n",
              "      <td>13210.0</td>\n",
              "      <td>13210.00</td>\n",
              "      <td>01/01/2014</td>\n",
              "    </tr>\n",
              "    <tr>\n",
              "      <th>2</th>\n",
              "      <td>Midmarket</td>\n",
              "      <td>France</td>\n",
              "      <td>Carretera</td>\n",
              "      <td>None</td>\n",
              "      <td>2178.0</td>\n",
              "      <td>3.0</td>\n",
              "      <td>15.0</td>\n",
              "      <td>32670.0</td>\n",
              "      <td>0.00</td>\n",
              "      <td>32670.00</td>\n",
              "      <td>21780.0</td>\n",
              "      <td>10890.00</td>\n",
              "      <td>01/06/2014</td>\n",
              "    </tr>\n",
              "    <tr>\n",
              "      <th>3</th>\n",
              "      <td>Midmarket</td>\n",
              "      <td>Germany</td>\n",
              "      <td>Carretera</td>\n",
              "      <td>None</td>\n",
              "      <td>888.0</td>\n",
              "      <td>3.0</td>\n",
              "      <td>15.0</td>\n",
              "      <td>13320.0</td>\n",
              "      <td>0.00</td>\n",
              "      <td>13320.00</td>\n",
              "      <td>8880.0</td>\n",
              "      <td>4440.00</td>\n",
              "      <td>01/06/2014</td>\n",
              "    </tr>\n",
              "    <tr>\n",
              "      <th>4</th>\n",
              "      <td>Midmarket</td>\n",
              "      <td>Mexico</td>\n",
              "      <td>Carretera</td>\n",
              "      <td>None</td>\n",
              "      <td>2470.0</td>\n",
              "      <td>3.0</td>\n",
              "      <td>15.0</td>\n",
              "      <td>37050.0</td>\n",
              "      <td>0.00</td>\n",
              "      <td>37050.00</td>\n",
              "      <td>24700.0</td>\n",
              "      <td>12350.00</td>\n",
              "      <td>01/06/2014</td>\n",
              "    </tr>\n",
              "    <tr>\n",
              "      <th>...</th>\n",
              "      <td>...</td>\n",
              "      <td>...</td>\n",
              "      <td>...</td>\n",
              "      <td>...</td>\n",
              "      <td>...</td>\n",
              "      <td>...</td>\n",
              "      <td>...</td>\n",
              "      <td>...</td>\n",
              "      <td>...</td>\n",
              "      <td>...</td>\n",
              "      <td>...</td>\n",
              "      <td>...</td>\n",
              "      <td>...</td>\n",
              "    </tr>\n",
              "    <tr>\n",
              "      <th>695</th>\n",
              "      <td>Small Business</td>\n",
              "      <td>France</td>\n",
              "      <td>Amarilla</td>\n",
              "      <td>High</td>\n",
              "      <td>2475.0</td>\n",
              "      <td>260.0</td>\n",
              "      <td>300.0</td>\n",
              "      <td>742500.0</td>\n",
              "      <td>111375.00</td>\n",
              "      <td>631125.00</td>\n",
              "      <td>618750.0</td>\n",
              "      <td>12375.00</td>\n",
              "      <td>01/03/2014</td>\n",
              "    </tr>\n",
              "    <tr>\n",
              "      <th>696</th>\n",
              "      <td>Small Business</td>\n",
              "      <td>Mexico</td>\n",
              "      <td>Amarilla</td>\n",
              "      <td>High</td>\n",
              "      <td>546.0</td>\n",
              "      <td>260.0</td>\n",
              "      <td>300.0</td>\n",
              "      <td>163800.0</td>\n",
              "      <td>24570.00</td>\n",
              "      <td>139230.00</td>\n",
              "      <td>136500.0</td>\n",
              "      <td>2730.00</td>\n",
              "      <td>01/10/2014</td>\n",
              "    </tr>\n",
              "    <tr>\n",
              "      <th>697</th>\n",
              "      <td>Government</td>\n",
              "      <td>Mexico</td>\n",
              "      <td>Montana</td>\n",
              "      <td>High</td>\n",
              "      <td>1368.0</td>\n",
              "      <td>5.0</td>\n",
              "      <td>7.0</td>\n",
              "      <td>9576.0</td>\n",
              "      <td>1436.40</td>\n",
              "      <td>8139.60</td>\n",
              "      <td>6840.0</td>\n",
              "      <td>1299.60</td>\n",
              "      <td>01/02/2014</td>\n",
              "    </tr>\n",
              "    <tr>\n",
              "      <th>698</th>\n",
              "      <td>Government</td>\n",
              "      <td>Canada</td>\n",
              "      <td>Paseo</td>\n",
              "      <td>High</td>\n",
              "      <td>723.0</td>\n",
              "      <td>10.0</td>\n",
              "      <td>7.0</td>\n",
              "      <td>5061.0</td>\n",
              "      <td>759.15</td>\n",
              "      <td>4301.85</td>\n",
              "      <td>3615.0</td>\n",
              "      <td>686.85</td>\n",
              "      <td>01/04/2014</td>\n",
              "    </tr>\n",
              "    <tr>\n",
              "      <th>699</th>\n",
              "      <td>Channel Partners</td>\n",
              "      <td>United States of America</td>\n",
              "      <td>VTT</td>\n",
              "      <td>High</td>\n",
              "      <td>1806.0</td>\n",
              "      <td>250.0</td>\n",
              "      <td>12.0</td>\n",
              "      <td>21672.0</td>\n",
              "      <td>3250.80</td>\n",
              "      <td>18421.20</td>\n",
              "      <td>5418.0</td>\n",
              "      <td>13003.20</td>\n",
              "      <td>01/05/2014</td>\n",
              "    </tr>\n",
              "  </tbody>\n",
              "</table>\n",
              "<p>700 rows × 13 columns</p>\n",
              "</div>"
            ],
            "text/plain": [
              "              Segment                   Country      Product Discount Band  \\\n",
              "0          Government                    Canada   Carretera          None    \n",
              "1          Government                   Germany   Carretera          None    \n",
              "2           Midmarket                    France   Carretera          None    \n",
              "3           Midmarket                   Germany   Carretera          None    \n",
              "4           Midmarket                    Mexico   Carretera          None    \n",
              "..                ...                       ...          ...           ...   \n",
              "695    Small Business                    France    Amarilla          High    \n",
              "696    Small Business                    Mexico    Amarilla          High    \n",
              "697        Government                    Mexico     Montana          High    \n",
              "698        Government                    Canada       Paseo          High    \n",
              "699  Channel Partners  United States of America         VTT          High    \n",
              "\n",
              "     Units Sold  Manufacturing Price  Sale Price  Gross Sales  Discounts  \\\n",
              "0        1618.5                  3.0        20.0      32370.0       0.00   \n",
              "1        1321.0                  3.0        20.0      26420.0       0.00   \n",
              "2        2178.0                  3.0        15.0      32670.0       0.00   \n",
              "3         888.0                  3.0        15.0      13320.0       0.00   \n",
              "4        2470.0                  3.0        15.0      37050.0       0.00   \n",
              "..          ...                  ...         ...          ...        ...   \n",
              "695      2475.0                260.0       300.0     742500.0  111375.00   \n",
              "696       546.0                260.0       300.0     163800.0   24570.00   \n",
              "697      1368.0                  5.0         7.0       9576.0    1436.40   \n",
              "698       723.0                 10.0         7.0       5061.0     759.15   \n",
              "699      1806.0                250.0        12.0      21672.0    3250.80   \n",
              "\n",
              "         Sales      COGS    Profit        Date  \n",
              "0     32370.00   16185.0  16185.00  01/01/2014  \n",
              "1     26420.00   13210.0  13210.00  01/01/2014  \n",
              "2     32670.00   21780.0  10890.00  01/06/2014  \n",
              "3     13320.00    8880.0   4440.00  01/06/2014  \n",
              "4     37050.00   24700.0  12350.00  01/06/2014  \n",
              "..         ...       ...       ...         ...  \n",
              "695  631125.00  618750.0  12375.00  01/03/2014  \n",
              "696  139230.00  136500.0   2730.00  01/10/2014  \n",
              "697    8139.60    6840.0   1299.60  01/02/2014  \n",
              "698    4301.85    3615.0    686.85  01/04/2014  \n",
              "699   18421.20    5418.0  13003.20  01/05/2014  \n",
              "\n",
              "[700 rows x 13 columns]"
            ]
          },
          "execution_count": 11,
          "metadata": {},
          "output_type": "execute_result"
        }
      ],
      "source": [
        "columns_numeric_float = ['Units Sold', 'Manufacturing Price', 'Sale Price', 'Gross Sales', 'Discounts', 'Sales', 'COGS', 'Profit']\n",
        "\n",
        "for col in columns_numeric_float:\n",
        "    # Menghilangkan simbol '$'\n",
        "    databaseFinance[col] = databaseFinance[col].str.replace('$', '')\n",
        "\n",
        "    # Menghilangkan koma\n",
        "    databaseFinance[col] = databaseFinance[col].str.replace(',', '')\n",
        "\n",
        "    # Menghilangkan spasi\n",
        "    databaseFinance[col] = databaseFinance[col].str.replace(' ', '')\n",
        "\n",
        "    # Menghilangkan tanda kurung\n",
        "    databaseFinance[col] = databaseFinance[col].str.replace('(', '')\n",
        "    databaseFinance[col] = databaseFinance[col].str.replace(')', '')\n",
        "\n",
        "    # Mengganti '-' dengan nilai 0\n",
        "    databaseFinance[col] = databaseFinance[col].replace('-', '0')\n",
        "\n",
        "    # Merubah tipe data menjadi float\n",
        "    databaseFinance[col] = databaseFinance[col].astype(float)\n",
        "\n",
        "    # Imputasi nilai dengan 0\n",
        "    databaseFinance[col].fillna(0, inplace=True)\n",
        "\n",
        "# Menampilkan informasi setelah perubahan\n",
        "databaseFinance\n",
        "\n"
      ]
    },
    {
      "cell_type": "markdown",
      "metadata": {
        "id": "ErVjc1ZWiqKu"
      },
      "source": [
        "Data keuangan tersebut dikelompokkan menjadi sebuah list yang berisikan kolom 'Units Sold', 'Manufacturing Price', 'Sale Price', 'Gross Sales', 'Discounts', 'Sales', 'COGS', dan 'Profit' karena basis datanya adalah data uang. adapun variabel yang menginput data-data keuangan di dalam list adalah columns_numeric_float.\n",
        "\n",
        "Lebih lanjut, terdapat sebuah hint atau temuan sebelumnya, dimana ada karakter (' dan ')' di dalam data keuangan. Oleh karena itu, harus dilakukan cleaning terhadap karakter tersebut agar data dapat diolah dan dianalisis sesuai kebutuhan.\n",
        "\n",
        "Berdasarkan informasi di dalam database, nilai mata uang yang digunakan di dalam database menggunakan simbol $. Agar data keuangan tersebut dapat diolah nanti, oleh karena itu simbol mata uang harus dibuang di dalam nilai data keuangan (yang mengandung data tentang uang) tersebut.\n",
        "\n",
        "Kemudian, ketika sudah membuang simbol mata uang di dalam data keuangan, hal yang perlu diperhatikan adalah membuang karakter '.', dan ',' di dalam data agar data keuangan dapat diolah dan dianalisa sesuai kebutuhan. Setelahnya, ketika ingin merubah data ke dalam bentuk float mengingat data keuangan menggunakan mata uang $ (yang tipe datanya adalah float) terdapat sebuah masalah karena terdapat spasi atau ' ' dan '-' yang menghambat proses perubahan tipe data. Oleh karena itu spasi atau ' ' dan '-' harus dilakukan treatment agar data dapat diubah menjadi float dengan cara membuang spasi ' ' di dalam data keuangan dan merubah '-' menjadi 0. Kemudian, pengubahan tipe data dari string menjadi float dapat dilakukan."
      ]
    },
    {
      "cell_type": "code",
      "execution_count": 12,
      "metadata": {
        "colab": {
          "base_uri": "https://localhost:8080/"
        },
        "id": "WayP0S-jrIkO",
        "outputId": "f593252f-98df-4456-ee42-6ce283628e48"
      },
      "outputs": [
        {
          "name": "stdout",
          "output_type": "stream",
          "text": [
            "Profit\n",
            "0.00        5\n",
            "7584.50     2\n",
            "940.50      2\n",
            "3055.92     2\n",
            "9241.80     2\n",
            "           ..\n",
            "67620.00    1\n",
            "415.54      1\n",
            "8323.00     1\n",
            "4653.36     1\n",
            "13003.20    1\n",
            "Name: count, Length: 556, dtype: int64\n"
          ]
        }
      ],
      "source": [
        "non_standard_missing_values = databaseFinance['Profit'].value_counts()\n",
        "print(non_standard_missing_values)"
      ]
    },
    {
      "cell_type": "markdown",
      "metadata": {
        "id": "pUnly-f4sfAG"
      },
      "source": [
        "Ketika dicek kembali setelah dilakukan treatment, didapatkan bahwa data sudah sesuai dengan data yang diharapkan atau diekspektasikan untuk diolah seperti menghilangkan karakter '(', ')', dll, serta melakukan treatment data seperti mengganti '-' menjadi 0."
      ]
    },
    {
      "cell_type": "code",
      "execution_count": 13,
      "metadata": {
        "id": "L1wnR2sDNPqH"
      },
      "outputs": [],
      "source": [
        "databaseFinance['Date'] = pd.to_datetime(databaseFinance['Date'], format='%m/%d/%Y')"
      ]
    },
    {
      "cell_type": "markdown",
      "metadata": {
        "id": "b__unh1Bbpj9"
      },
      "source": [
        "Merubah tipe data pada kolom Date dari tipe data string menjadi data date dengan format:\n",
        "\n",
        "%m = Bulan menjadi angka (contoh : 15)\n",
        "\n",
        "%d = tanggal dalam bulan (contoh Januari : 01))\n",
        "\n",
        "%Y = Tahun, full version (contoh  : 2020)"
      ]
    },
    {
      "cell_type": "code",
      "execution_count": 14,
      "metadata": {
        "colab": {
          "base_uri": "https://localhost:8080/"
        },
        "id": "jdJmr_AyOQNM",
        "outputId": "a387e887-db89-409f-d947-0ceb430a0b1b"
      },
      "outputs": [
        {
          "name": "stdout",
          "output_type": "stream",
          "text": [
            "<class 'pandas.core.frame.DataFrame'>\n",
            "RangeIndex: 700 entries, 0 to 699\n",
            "Data columns (total 13 columns):\n",
            " #   Column               Non-Null Count  Dtype         \n",
            "---  ------               --------------  -----         \n",
            " 0   Segment              700 non-null    object        \n",
            " 1   Country              700 non-null    object        \n",
            " 2   Product              700 non-null    object        \n",
            " 3   Discount Band        700 non-null    object        \n",
            " 4   Units Sold           700 non-null    float64       \n",
            " 5   Manufacturing Price  700 non-null    float64       \n",
            " 6   Sale Price           700 non-null    float64       \n",
            " 7   Gross Sales          700 non-null    float64       \n",
            " 8   Discounts            700 non-null    float64       \n",
            " 9   Sales                700 non-null    float64       \n",
            " 10  COGS                 700 non-null    float64       \n",
            " 11  Profit               700 non-null    float64       \n",
            " 12  Date                 700 non-null    datetime64[ns]\n",
            "dtypes: datetime64[ns](1), float64(8), object(4)\n",
            "memory usage: 71.2+ KB\n"
          ]
        }
      ],
      "source": [
        "databaseFinance.info()"
      ]
    },
    {
      "cell_type": "markdown",
      "metadata": {
        "id": "2aOZcqLdtBCp"
      },
      "source": [
        "Dalam hal ini, data engineer ingin menampilkan summary data berdasarkan hasil olahan data seperti melakukan drop pada kolom yang tidak dibutuhkan, melakukan treatment pada data-data keuangan, dan mengubah tipe data Date yang sebelumnya string menjadi tipe data datetime."
      ]
    },
    {
      "cell_type": "code",
      "execution_count": null,
      "metadata": {
        "colab": {
          "base_uri": "https://localhost:8080/",
          "height": 424
        },
        "id": "FY5_5Yl9OSsJ",
        "outputId": "19fad833-fe20-4446-f54b-743ef7d3ea8f"
      },
      "outputs": [
        {
          "data": {
            "text/html": [
              "\n",
              "  <div id=\"df-baf2cb8b-37e9-41f8-97f3-83dd8649e227\" class=\"colab-df-container\">\n",
              "    <div>\n",
              "<style scoped>\n",
              "    .dataframe tbody tr th:only-of-type {\n",
              "        vertical-align: middle;\n",
              "    }\n",
              "\n",
              "    .dataframe tbody tr th {\n",
              "        vertical-align: top;\n",
              "    }\n",
              "\n",
              "    .dataframe thead th {\n",
              "        text-align: right;\n",
              "    }\n",
              "</style>\n",
              "<table border=\"1\" class=\"dataframe\">\n",
              "  <thead>\n",
              "    <tr style=\"text-align: right;\">\n",
              "      <th></th>\n",
              "      <th>Segment</th>\n",
              "      <th>Country</th>\n",
              "      <th>Product</th>\n",
              "      <th>Discount Band</th>\n",
              "      <th>Units Sold</th>\n",
              "      <th>Manufacturing Price</th>\n",
              "      <th>Sale Price</th>\n",
              "      <th>Gross Sales</th>\n",
              "      <th>Discounts</th>\n",
              "      <th>Sales</th>\n",
              "      <th>COGS</th>\n",
              "      <th>Profit</th>\n",
              "      <th>Date</th>\n",
              "    </tr>\n",
              "  </thead>\n",
              "  <tbody>\n",
              "    <tr>\n",
              "      <th>0</th>\n",
              "      <td>Government</td>\n",
              "      <td>Canada</td>\n",
              "      <td>Carretera</td>\n",
              "      <td>None</td>\n",
              "      <td>1618.5</td>\n",
              "      <td>3.0</td>\n",
              "      <td>20.0</td>\n",
              "      <td>32370.0</td>\n",
              "      <td>0.00</td>\n",
              "      <td>32370.00</td>\n",
              "      <td>16185.0</td>\n",
              "      <td>16185.00</td>\n",
              "      <td>01/01/2014</td>\n",
              "    </tr>\n",
              "    <tr>\n",
              "      <th>1</th>\n",
              "      <td>Government</td>\n",
              "      <td>Germany</td>\n",
              "      <td>Carretera</td>\n",
              "      <td>None</td>\n",
              "      <td>1321.0</td>\n",
              "      <td>3.0</td>\n",
              "      <td>20.0</td>\n",
              "      <td>26420.0</td>\n",
              "      <td>0.00</td>\n",
              "      <td>26420.00</td>\n",
              "      <td>13210.0</td>\n",
              "      <td>13210.00</td>\n",
              "      <td>01/01/2014</td>\n",
              "    </tr>\n",
              "    <tr>\n",
              "      <th>2</th>\n",
              "      <td>Midmarket</td>\n",
              "      <td>France</td>\n",
              "      <td>Carretera</td>\n",
              "      <td>None</td>\n",
              "      <td>2178.0</td>\n",
              "      <td>3.0</td>\n",
              "      <td>15.0</td>\n",
              "      <td>32670.0</td>\n",
              "      <td>0.00</td>\n",
              "      <td>32670.00</td>\n",
              "      <td>21780.0</td>\n",
              "      <td>10890.00</td>\n",
              "      <td>01/06/2014</td>\n",
              "    </tr>\n",
              "    <tr>\n",
              "      <th>3</th>\n",
              "      <td>Midmarket</td>\n",
              "      <td>Germany</td>\n",
              "      <td>Carretera</td>\n",
              "      <td>None</td>\n",
              "      <td>888.0</td>\n",
              "      <td>3.0</td>\n",
              "      <td>15.0</td>\n",
              "      <td>13320.0</td>\n",
              "      <td>0.00</td>\n",
              "      <td>13320.00</td>\n",
              "      <td>8880.0</td>\n",
              "      <td>4440.00</td>\n",
              "      <td>01/06/2014</td>\n",
              "    </tr>\n",
              "    <tr>\n",
              "      <th>4</th>\n",
              "      <td>Midmarket</td>\n",
              "      <td>Mexico</td>\n",
              "      <td>Carretera</td>\n",
              "      <td>None</td>\n",
              "      <td>2470.0</td>\n",
              "      <td>3.0</td>\n",
              "      <td>15.0</td>\n",
              "      <td>37050.0</td>\n",
              "      <td>0.00</td>\n",
              "      <td>37050.00</td>\n",
              "      <td>24700.0</td>\n",
              "      <td>12350.00</td>\n",
              "      <td>01/06/2014</td>\n",
              "    </tr>\n",
              "    <tr>\n",
              "      <th>...</th>\n",
              "      <td>...</td>\n",
              "      <td>...</td>\n",
              "      <td>...</td>\n",
              "      <td>...</td>\n",
              "      <td>...</td>\n",
              "      <td>...</td>\n",
              "      <td>...</td>\n",
              "      <td>...</td>\n",
              "      <td>...</td>\n",
              "      <td>...</td>\n",
              "      <td>...</td>\n",
              "      <td>...</td>\n",
              "      <td>...</td>\n",
              "    </tr>\n",
              "    <tr>\n",
              "      <th>695</th>\n",
              "      <td>Small Business</td>\n",
              "      <td>France</td>\n",
              "      <td>Amarilla</td>\n",
              "      <td>High</td>\n",
              "      <td>2475.0</td>\n",
              "      <td>260.0</td>\n",
              "      <td>300.0</td>\n",
              "      <td>742500.0</td>\n",
              "      <td>111375.00</td>\n",
              "      <td>631125.00</td>\n",
              "      <td>618750.0</td>\n",
              "      <td>12375.00</td>\n",
              "      <td>01/03/2014</td>\n",
              "    </tr>\n",
              "    <tr>\n",
              "      <th>696</th>\n",
              "      <td>Small Business</td>\n",
              "      <td>Mexico</td>\n",
              "      <td>Amarilla</td>\n",
              "      <td>High</td>\n",
              "      <td>546.0</td>\n",
              "      <td>260.0</td>\n",
              "      <td>300.0</td>\n",
              "      <td>163800.0</td>\n",
              "      <td>24570.00</td>\n",
              "      <td>139230.00</td>\n",
              "      <td>136500.0</td>\n",
              "      <td>2730.00</td>\n",
              "      <td>01/10/2014</td>\n",
              "    </tr>\n",
              "    <tr>\n",
              "      <th>697</th>\n",
              "      <td>Government</td>\n",
              "      <td>Mexico</td>\n",
              "      <td>Montana</td>\n",
              "      <td>High</td>\n",
              "      <td>1368.0</td>\n",
              "      <td>5.0</td>\n",
              "      <td>7.0</td>\n",
              "      <td>9576.0</td>\n",
              "      <td>1436.40</td>\n",
              "      <td>8139.60</td>\n",
              "      <td>6840.0</td>\n",
              "      <td>1299.60</td>\n",
              "      <td>01/02/2014</td>\n",
              "    </tr>\n",
              "    <tr>\n",
              "      <th>698</th>\n",
              "      <td>Government</td>\n",
              "      <td>Canada</td>\n",
              "      <td>Paseo</td>\n",
              "      <td>High</td>\n",
              "      <td>723.0</td>\n",
              "      <td>10.0</td>\n",
              "      <td>7.0</td>\n",
              "      <td>5061.0</td>\n",
              "      <td>759.15</td>\n",
              "      <td>4301.85</td>\n",
              "      <td>3615.0</td>\n",
              "      <td>686.85</td>\n",
              "      <td>01/04/2014</td>\n",
              "    </tr>\n",
              "    <tr>\n",
              "      <th>699</th>\n",
              "      <td>Channel Partners</td>\n",
              "      <td>United States of America</td>\n",
              "      <td>VTT</td>\n",
              "      <td>High</td>\n",
              "      <td>1806.0</td>\n",
              "      <td>250.0</td>\n",
              "      <td>12.0</td>\n",
              "      <td>21672.0</td>\n",
              "      <td>3250.80</td>\n",
              "      <td>18421.20</td>\n",
              "      <td>5418.0</td>\n",
              "      <td>13003.20</td>\n",
              "      <td>01/05/2014</td>\n",
              "    </tr>\n",
              "  </tbody>\n",
              "</table>\n",
              "<p>700 rows × 13 columns</p>\n",
              "</div>\n",
              "    <div class=\"colab-df-buttons\">\n",
              "\n",
              "  <div class=\"colab-df-container\">\n",
              "    <button class=\"colab-df-convert\" onclick=\"convertToInteractive('df-baf2cb8b-37e9-41f8-97f3-83dd8649e227')\"\n",
              "            title=\"Convert this dataframe to an interactive table.\"\n",
              "            style=\"display:none;\">\n",
              "\n",
              "  <svg xmlns=\"http://www.w3.org/2000/svg\" height=\"24px\" viewBox=\"0 -960 960 960\">\n",
              "    <path d=\"M120-120v-720h720v720H120Zm60-500h600v-160H180v160Zm220 220h160v-160H400v160Zm0 220h160v-160H400v160ZM180-400h160v-160H180v160Zm440 0h160v-160H620v160ZM180-180h160v-160H180v160Zm440 0h160v-160H620v160Z\"/>\n",
              "  </svg>\n",
              "    </button>\n",
              "\n",
              "  <style>\n",
              "    .colab-df-container {\n",
              "      display:flex;\n",
              "      gap: 12px;\n",
              "    }\n",
              "\n",
              "    .colab-df-convert {\n",
              "      background-color: #E8F0FE;\n",
              "      border: none;\n",
              "      border-radius: 50%;\n",
              "      cursor: pointer;\n",
              "      display: none;\n",
              "      fill: #1967D2;\n",
              "      height: 32px;\n",
              "      padding: 0 0 0 0;\n",
              "      width: 32px;\n",
              "    }\n",
              "\n",
              "    .colab-df-convert:hover {\n",
              "      background-color: #E2EBFA;\n",
              "      box-shadow: 0px 1px 2px rgba(60, 64, 67, 0.3), 0px 1px 3px 1px rgba(60, 64, 67, 0.15);\n",
              "      fill: #174EA6;\n",
              "    }\n",
              "\n",
              "    .colab-df-buttons div {\n",
              "      margin-bottom: 4px;\n",
              "    }\n",
              "\n",
              "    [theme=dark] .colab-df-convert {\n",
              "      background-color: #3B4455;\n",
              "      fill: #D2E3FC;\n",
              "    }\n",
              "\n",
              "    [theme=dark] .colab-df-convert:hover {\n",
              "      background-color: #434B5C;\n",
              "      box-shadow: 0px 1px 3px 1px rgba(0, 0, 0, 0.15);\n",
              "      filter: drop-shadow(0px 1px 2px rgba(0, 0, 0, 0.3));\n",
              "      fill: #FFFFFF;\n",
              "    }\n",
              "  </style>\n",
              "\n",
              "    <script>\n",
              "      const buttonEl =\n",
              "        document.querySelector('#df-baf2cb8b-37e9-41f8-97f3-83dd8649e227 button.colab-df-convert');\n",
              "      buttonEl.style.display =\n",
              "        google.colab.kernel.accessAllowed ? 'block' : 'none';\n",
              "\n",
              "      async function convertToInteractive(key) {\n",
              "        const element = document.querySelector('#df-baf2cb8b-37e9-41f8-97f3-83dd8649e227');\n",
              "        const dataTable =\n",
              "          await google.colab.kernel.invokeFunction('convertToInteractive',\n",
              "                                                    [key], {});\n",
              "        if (!dataTable) return;\n",
              "\n",
              "        const docLinkHtml = 'Like what you see? Visit the ' +\n",
              "          '<a target=\"_blank\" href=https://colab.research.google.com/notebooks/data_table.ipynb>data table notebook</a>'\n",
              "          + ' to learn more about interactive tables.';\n",
              "        element.innerHTML = '';\n",
              "        dataTable['output_type'] = 'display_data';\n",
              "        await google.colab.output.renderOutput(dataTable, element);\n",
              "        const docLink = document.createElement('div');\n",
              "        docLink.innerHTML = docLinkHtml;\n",
              "        element.appendChild(docLink);\n",
              "      }\n",
              "    </script>\n",
              "  </div>\n",
              "\n",
              "\n",
              "<div id=\"df-44d23bd2-384d-49bb-8491-abfe25449dff\">\n",
              "  <button class=\"colab-df-quickchart\" onclick=\"quickchart('df-44d23bd2-384d-49bb-8491-abfe25449dff')\"\n",
              "            title=\"Suggest charts\"\n",
              "            style=\"display:none;\">\n",
              "\n",
              "<svg xmlns=\"http://www.w3.org/2000/svg\" height=\"24px\"viewBox=\"0 0 24 24\"\n",
              "     width=\"24px\">\n",
              "    <g>\n",
              "        <path d=\"M19 3H5c-1.1 0-2 .9-2 2v14c0 1.1.9 2 2 2h14c1.1 0 2-.9 2-2V5c0-1.1-.9-2-2-2zM9 17H7v-7h2v7zm4 0h-2V7h2v10zm4 0h-2v-4h2v4z\"/>\n",
              "    </g>\n",
              "</svg>\n",
              "  </button>\n",
              "\n",
              "<style>\n",
              "  .colab-df-quickchart {\n",
              "      --bg-color: #E8F0FE;\n",
              "      --fill-color: #1967D2;\n",
              "      --hover-bg-color: #E2EBFA;\n",
              "      --hover-fill-color: #174EA6;\n",
              "      --disabled-fill-color: #AAA;\n",
              "      --disabled-bg-color: #DDD;\n",
              "  }\n",
              "\n",
              "  [theme=dark] .colab-df-quickchart {\n",
              "      --bg-color: #3B4455;\n",
              "      --fill-color: #D2E3FC;\n",
              "      --hover-bg-color: #434B5C;\n",
              "      --hover-fill-color: #FFFFFF;\n",
              "      --disabled-bg-color: #3B4455;\n",
              "      --disabled-fill-color: #666;\n",
              "  }\n",
              "\n",
              "  .colab-df-quickchart {\n",
              "    background-color: var(--bg-color);\n",
              "    border: none;\n",
              "    border-radius: 50%;\n",
              "    cursor: pointer;\n",
              "    display: none;\n",
              "    fill: var(--fill-color);\n",
              "    height: 32px;\n",
              "    padding: 0;\n",
              "    width: 32px;\n",
              "  }\n",
              "\n",
              "  .colab-df-quickchart:hover {\n",
              "    background-color: var(--hover-bg-color);\n",
              "    box-shadow: 0 1px 2px rgba(60, 64, 67, 0.3), 0 1px 3px 1px rgba(60, 64, 67, 0.15);\n",
              "    fill: var(--button-hover-fill-color);\n",
              "  }\n",
              "\n",
              "  .colab-df-quickchart-complete:disabled,\n",
              "  .colab-df-quickchart-complete:disabled:hover {\n",
              "    background-color: var(--disabled-bg-color);\n",
              "    fill: var(--disabled-fill-color);\n",
              "    box-shadow: none;\n",
              "  }\n",
              "\n",
              "  .colab-df-spinner {\n",
              "    border: 2px solid var(--fill-color);\n",
              "    border-color: transparent;\n",
              "    border-bottom-color: var(--fill-color);\n",
              "    animation:\n",
              "      spin 1s steps(1) infinite;\n",
              "  }\n",
              "\n",
              "  @keyframes spin {\n",
              "    0% {\n",
              "      border-color: transparent;\n",
              "      border-bottom-color: var(--fill-color);\n",
              "      border-left-color: var(--fill-color);\n",
              "    }\n",
              "    20% {\n",
              "      border-color: transparent;\n",
              "      border-left-color: var(--fill-color);\n",
              "      border-top-color: var(--fill-color);\n",
              "    }\n",
              "    30% {\n",
              "      border-color: transparent;\n",
              "      border-left-color: var(--fill-color);\n",
              "      border-top-color: var(--fill-color);\n",
              "      border-right-color: var(--fill-color);\n",
              "    }\n",
              "    40% {\n",
              "      border-color: transparent;\n",
              "      border-right-color: var(--fill-color);\n",
              "      border-top-color: var(--fill-color);\n",
              "    }\n",
              "    60% {\n",
              "      border-color: transparent;\n",
              "      border-right-color: var(--fill-color);\n",
              "    }\n",
              "    80% {\n",
              "      border-color: transparent;\n",
              "      border-right-color: var(--fill-color);\n",
              "      border-bottom-color: var(--fill-color);\n",
              "    }\n",
              "    90% {\n",
              "      border-color: transparent;\n",
              "      border-bottom-color: var(--fill-color);\n",
              "    }\n",
              "  }\n",
              "</style>\n",
              "\n",
              "  <script>\n",
              "    async function quickchart(key) {\n",
              "      const quickchartButtonEl =\n",
              "        document.querySelector('#' + key + ' button');\n",
              "      quickchartButtonEl.disabled = true;  // To prevent multiple clicks.\n",
              "      quickchartButtonEl.classList.add('colab-df-spinner');\n",
              "      try {\n",
              "        const charts = await google.colab.kernel.invokeFunction(\n",
              "            'suggestCharts', [key], {});\n",
              "      } catch (error) {\n",
              "        console.error('Error during call to suggestCharts:', error);\n",
              "      }\n",
              "      quickchartButtonEl.classList.remove('colab-df-spinner');\n",
              "      quickchartButtonEl.classList.add('colab-df-quickchart-complete');\n",
              "    }\n",
              "    (() => {\n",
              "      let quickchartButtonEl =\n",
              "        document.querySelector('#df-44d23bd2-384d-49bb-8491-abfe25449dff button');\n",
              "      quickchartButtonEl.style.display =\n",
              "        google.colab.kernel.accessAllowed ? 'block' : 'none';\n",
              "    })();\n",
              "  </script>\n",
              "</div>\n",
              "    </div>\n",
              "  </div>\n"
            ],
            "text/plain": [
              "              Segment                   Country      Product Discount Band  \\\n",
              "0          Government                    Canada   Carretera          None    \n",
              "1          Government                   Germany   Carretera          None    \n",
              "2           Midmarket                    France   Carretera          None    \n",
              "3           Midmarket                   Germany   Carretera          None    \n",
              "4           Midmarket                    Mexico   Carretera          None    \n",
              "..                ...                       ...          ...           ...   \n",
              "695    Small Business                    France    Amarilla          High    \n",
              "696    Small Business                    Mexico    Amarilla          High    \n",
              "697        Government                    Mexico     Montana          High    \n",
              "698        Government                    Canada       Paseo          High    \n",
              "699  Channel Partners  United States of America         VTT          High    \n",
              "\n",
              "     Units Sold  Manufacturing Price  Sale Price  Gross Sales  Discounts  \\\n",
              "0        1618.5                  3.0        20.0      32370.0       0.00   \n",
              "1        1321.0                  3.0        20.0      26420.0       0.00   \n",
              "2        2178.0                  3.0        15.0      32670.0       0.00   \n",
              "3         888.0                  3.0        15.0      13320.0       0.00   \n",
              "4        2470.0                  3.0        15.0      37050.0       0.00   \n",
              "..          ...                  ...         ...          ...        ...   \n",
              "695      2475.0                260.0       300.0     742500.0  111375.00   \n",
              "696       546.0                260.0       300.0     163800.0   24570.00   \n",
              "697      1368.0                  5.0         7.0       9576.0    1436.40   \n",
              "698       723.0                 10.0         7.0       5061.0     759.15   \n",
              "699      1806.0                250.0        12.0      21672.0    3250.80   \n",
              "\n",
              "         Sales      COGS    Profit        Date  \n",
              "0     32370.00   16185.0  16185.00  01/01/2014  \n",
              "1     26420.00   13210.0  13210.00  01/01/2014  \n",
              "2     32670.00   21780.0  10890.00  01/06/2014  \n",
              "3     13320.00    8880.0   4440.00  01/06/2014  \n",
              "4     37050.00   24700.0  12350.00  01/06/2014  \n",
              "..         ...       ...       ...         ...  \n",
              "695  631125.00  618750.0  12375.00  01/03/2014  \n",
              "696  139230.00  136500.0   2730.00  01/10/2014  \n",
              "697    8139.60    6840.0   1299.60  01/02/2014  \n",
              "698    4301.85    3615.0    686.85  01/04/2014  \n",
              "699   18421.20    5418.0  13003.20  01/05/2014  \n",
              "\n",
              "[700 rows x 13 columns]"
            ]
          },
          "execution_count": 54,
          "metadata": {},
          "output_type": "execute_result"
        }
      ],
      "source": [
        "databaseFinance"
      ]
    },
    {
      "cell_type": "markdown",
      "metadata": {
        "id": "zMU5eRGCUElV"
      },
      "source": [
        "#3. Data Normalization\n",
        "\n",
        "Dalam tahapan ini, data engineer melakukan membantu mengurangi redundansi data, salah satunya dengan memisahkan informasi ke dalam tabel-tabel yang lebih kecil. Tabel-tabel tersebut dibagi menjadi tabel utama dan tabel pelengkap (tabel kecil) sebagai bagian dari tabel utama."
      ]
    },
    {
      "cell_type": "code",
      "execution_count": 15,
      "metadata": {
        "id": "4lPtNOGjTWCf"
      },
      "outputs": [],
      "source": [
        "#Tabel Segment\n",
        "Segment = databaseFinance[['Segment']].drop_duplicates().reset_index(drop=True)\n",
        "Segment['Segment_id'] = Segment.index + 1\n",
        "Segment = Segment[['Segment_id', 'Segment']]\n",
        "Segment.to_csv('Segment.csv', index=False)"
      ]
    },
    {
      "cell_type": "markdown",
      "metadata": {
        "id": "ZkXTiewnYve4"
      },
      "source": [
        "Dalam tahapan ini yaitu membuat tabel pelengkap dengan nama Segment sebagai Foreign Key pada tabel utama Business."
      ]
    },
    {
      "cell_type": "code",
      "execution_count": null,
      "metadata": {
        "colab": {
          "base_uri": "https://localhost:8080/",
          "height": 17
        },
        "id": "8FHU6ZAdXVB7",
        "outputId": "5f0d2bb7-0108-4e95-f0a0-af0b3e050dce"
      },
      "outputs": [
        {
          "data": {
            "application/javascript": "\n    async function download(id, filename, size) {\n      if (!google.colab.kernel.accessAllowed) {\n        return;\n      }\n      const div = document.createElement('div');\n      const label = document.createElement('label');\n      label.textContent = `Downloading \"${filename}\": `;\n      div.appendChild(label);\n      const progress = document.createElement('progress');\n      progress.max = size;\n      div.appendChild(progress);\n      document.body.appendChild(div);\n\n      const buffers = [];\n      let downloaded = 0;\n\n      const channel = await google.colab.kernel.comms.open(id);\n      // Send a message to notify the kernel that we're ready.\n      channel.send({})\n\n      for await (const message of channel.messages) {\n        // Send a message to notify the kernel that we're ready.\n        channel.send({})\n        if (message.buffers) {\n          for (const buffer of message.buffers) {\n            buffers.push(buffer);\n            downloaded += buffer.byteLength;\n            progress.value = downloaded;\n          }\n        }\n      }\n      const blob = new Blob(buffers, {type: 'application/binary'});\n      const a = document.createElement('a');\n      a.href = window.URL.createObjectURL(blob);\n      a.download = filename;\n      div.appendChild(a);\n      a.click();\n      div.remove();\n    }\n  ",
            "text/plain": [
              "<IPython.core.display.Javascript object>"
            ]
          },
          "metadata": {},
          "output_type": "display_data"
        },
        {
          "data": {
            "application/javascript": "download(\"download_3f5a0fe2-cb99-4170-9a1a-5599ca9afddb\", \"Segment.csv\", 93)",
            "text/plain": [
              "<IPython.core.display.Javascript object>"
            ]
          },
          "metadata": {},
          "output_type": "display_data"
        }
      ],
      "source": [
        "from google.colab import files\n",
        "\n",
        "files.download('Segment.csv')"
      ]
    },
    {
      "cell_type": "markdown",
      "metadata": {
        "id": "-lo4uratZHYO"
      },
      "source": [
        "Melakukan import data Segment.csv menjadi format csv. Menggunakan command diatas karena menggunakan google colab."
      ]
    },
    {
      "cell_type": "code",
      "execution_count": 16,
      "metadata": {
        "id": "wjquq4K4UAiu"
      },
      "outputs": [],
      "source": [
        "#Tabel Discount Band\n",
        "Discount_Band = databaseFinance[['Discount Band']].drop_duplicates().reset_index(drop=True)\n",
        "Discount_Band['Discount_Band_id'] = Discount_Band.index + 1\n",
        "Discount_Band = Discount_Band[['Discount_Band_id', 'Discount Band']]\n",
        "Discount_Band.to_csv('Discount_Band.csv', index=False)"
      ]
    },
    {
      "cell_type": "markdown",
      "metadata": {
        "id": "uK7W0oEsZLqC"
      },
      "source": [
        "Dalam tahapan ini yaitu membuat tabel pelengkap dengan nama Discount_Band sebagai Foreign Key pada tabel utama Business."
      ]
    },
    {
      "cell_type": "code",
      "execution_count": null,
      "metadata": {
        "colab": {
          "base_uri": "https://localhost:8080/",
          "height": 17
        },
        "id": "wNcnXzMbXYAl",
        "outputId": "eebbf83e-91ac-4543-8502-d15748a16587"
      },
      "outputs": [
        {
          "data": {
            "application/javascript": "\n    async function download(id, filename, size) {\n      if (!google.colab.kernel.accessAllowed) {\n        return;\n      }\n      const div = document.createElement('div');\n      const label = document.createElement('label');\n      label.textContent = `Downloading \"${filename}\": `;\n      div.appendChild(label);\n      const progress = document.createElement('progress');\n      progress.max = size;\n      div.appendChild(progress);\n      document.body.appendChild(div);\n\n      const buffers = [];\n      let downloaded = 0;\n\n      const channel = await google.colab.kernel.comms.open(id);\n      // Send a message to notify the kernel that we're ready.\n      channel.send({})\n\n      for await (const message of channel.messages) {\n        // Send a message to notify the kernel that we're ready.\n        channel.send({})\n        if (message.buffers) {\n          for (const buffer of message.buffers) {\n            buffers.push(buffer);\n            downloaded += buffer.byteLength;\n            progress.value = downloaded;\n          }\n        }\n      }\n      const blob = new Blob(buffers, {type: 'application/binary'});\n      const a = document.createElement('a');\n      a.href = window.URL.createObjectURL(blob);\n      a.download = filename;\n      div.appendChild(a);\n      a.click();\n      div.remove();\n    }\n  ",
            "text/plain": [
              "<IPython.core.display.Javascript object>"
            ]
          },
          "metadata": {},
          "output_type": "display_data"
        },
        {
          "data": {
            "application/javascript": "download(\"download_41ca0fb5-bfb6-4c57-8323-03fe3bd1569a\", \"Discount_Band.csv\", 68)",
            "text/plain": [
              "<IPython.core.display.Javascript object>"
            ]
          },
          "metadata": {},
          "output_type": "display_data"
        }
      ],
      "source": [
        "from google.colab import files\n",
        "\n",
        "files.download('Discount_Band.csv')"
      ]
    },
    {
      "cell_type": "markdown",
      "metadata": {
        "id": "hfn_kOm-ZQce"
      },
      "source": [
        "Melakukan import data Discount_Band.csv menjadi format csv. Menggunakan command diatas karena menggunakan google colab."
      ]
    },
    {
      "cell_type": "code",
      "execution_count": 17,
      "metadata": {
        "id": "s3lN-bSIUL0h"
      },
      "outputs": [],
      "source": [
        "#Tabel Product\n",
        "Product = databaseFinance[['Product']].drop_duplicates().reset_index(drop=True)\n",
        "Product['Product_id'] = Product.index + 1\n",
        "Product = Product[['Product_id', 'Product']]\n",
        "Product.to_csv('Product.csv', index=False)"
      ]
    },
    {
      "cell_type": "markdown",
      "metadata": {
        "id": "3EY6UwWsZVGK"
      },
      "source": [
        "Dalam tahapan ini yaitu membuat tabel pelengkap dengan nama Product sebagai Foreign Key pada tabel utama Business."
      ]
    },
    {
      "cell_type": "code",
      "execution_count": null,
      "metadata": {
        "colab": {
          "base_uri": "https://localhost:8080/",
          "height": 17
        },
        "id": "lREu0yMmXYSm",
        "outputId": "f8e8d2de-629a-41fd-b270-87d082608032"
      },
      "outputs": [
        {
          "data": {
            "application/javascript": "\n    async function download(id, filename, size) {\n      if (!google.colab.kernel.accessAllowed) {\n        return;\n      }\n      const div = document.createElement('div');\n      const label = document.createElement('label');\n      label.textContent = `Downloading \"${filename}\": `;\n      div.appendChild(label);\n      const progress = document.createElement('progress');\n      progress.max = size;\n      div.appendChild(progress);\n      document.body.appendChild(div);\n\n      const buffers = [];\n      let downloaded = 0;\n\n      const channel = await google.colab.kernel.comms.open(id);\n      // Send a message to notify the kernel that we're ready.\n      channel.send({})\n\n      for await (const message of channel.messages) {\n        // Send a message to notify the kernel that we're ready.\n        channel.send({})\n        if (message.buffers) {\n          for (const buffer of message.buffers) {\n            buffers.push(buffer);\n            downloaded += buffer.byteLength;\n            progress.value = downloaded;\n          }\n        }\n      }\n      const blob = new Blob(buffers, {type: 'application/binary'});\n      const a = document.createElement('a');\n      a.href = window.URL.createObjectURL(blob);\n      a.download = filename;\n      div.appendChild(a);\n      a.click();\n      div.remove();\n    }\n  ",
            "text/plain": [
              "<IPython.core.display.Javascript object>"
            ]
          },
          "metadata": {},
          "output_type": "display_data"
        },
        {
          "data": {
            "application/javascript": "download(\"download_c6a56b89-8f7e-4d39-94fd-f3281e6600c1\", \"Product.csv\", 85)",
            "text/plain": [
              "<IPython.core.display.Javascript object>"
            ]
          },
          "metadata": {},
          "output_type": "display_data"
        }
      ],
      "source": [
        "from google.colab import files\n",
        "\n",
        "files.download('Product.csv')"
      ]
    },
    {
      "cell_type": "markdown",
      "metadata": {
        "id": "48QGHVUVZWuC"
      },
      "source": [
        "Melakukan import data Product.csv menjadi format csv. Menggunakan command diatas karena menggunakan google colab."
      ]
    },
    {
      "cell_type": "code",
      "execution_count": 18,
      "metadata": {
        "id": "CCsxZUgrUMSD"
      },
      "outputs": [],
      "source": [
        "#Tabel Country\n",
        "Country = databaseFinance[['Country']].drop_duplicates().reset_index(drop=True)\n",
        "Country['Country_id'] = Country.index + 1\n",
        "Country = Country[['Country_id', 'Country']]\n",
        "Country.to_csv('Country.csv', index=False)"
      ]
    },
    {
      "cell_type": "markdown",
      "metadata": {
        "id": "1vsY0XF2Zdzj"
      },
      "source": [
        "Dalam tahapan ini yaitu membuat tabel pelengkap dengan nama country sebagai Foreign Key pada tabel utama Business."
      ]
    },
    {
      "cell_type": "code",
      "execution_count": null,
      "metadata": {
        "colab": {
          "base_uri": "https://localhost:8080/",
          "height": 17
        },
        "id": "DwjaXgTdXYxO",
        "outputId": "a5c0c43e-0c80-46ec-ebb8-a9e0fd525a63"
      },
      "outputs": [
        {
          "data": {
            "application/javascript": "\n    async function download(id, filename, size) {\n      if (!google.colab.kernel.accessAllowed) {\n        return;\n      }\n      const div = document.createElement('div');\n      const label = document.createElement('label');\n      label.textContent = `Downloading \"${filename}\": `;\n      div.appendChild(label);\n      const progress = document.createElement('progress');\n      progress.max = size;\n      div.appendChild(progress);\n      document.body.appendChild(div);\n\n      const buffers = [];\n      let downloaded = 0;\n\n      const channel = await google.colab.kernel.comms.open(id);\n      // Send a message to notify the kernel that we're ready.\n      channel.send({})\n\n      for await (const message of channel.messages) {\n        // Send a message to notify the kernel that we're ready.\n        channel.send({})\n        if (message.buffers) {\n          for (const buffer of message.buffers) {\n            buffers.push(buffer);\n            downloaded += buffer.byteLength;\n            progress.value = downloaded;\n          }\n        }\n      }\n      const blob = new Blob(buffers, {type: 'application/binary'});\n      const a = document.createElement('a');\n      a.href = window.URL.createObjectURL(blob);\n      a.download = filename;\n      div.appendChild(a);\n      a.click();\n      div.remove();\n    }\n  ",
            "text/plain": [
              "<IPython.core.display.Javascript object>"
            ]
          },
          "metadata": {},
          "output_type": "display_data"
        },
        {
          "data": {
            "application/javascript": "download(\"download_e302aea2-eac7-4cb9-b3de-5094dc174662\", \"Country.csv\", 83)",
            "text/plain": [
              "<IPython.core.display.Javascript object>"
            ]
          },
          "metadata": {},
          "output_type": "display_data"
        }
      ],
      "source": [
        "from google.colab import files\n",
        "\n",
        "files.download('Country.csv')"
      ]
    },
    {
      "cell_type": "markdown",
      "metadata": {
        "id": "-EeZthZTZqjH"
      },
      "source": [
        "Melakukan import data Country.csv menjadi format csv. Menggunakan command diatas karena menggunakan google colab."
      ]
    },
    {
      "cell_type": "code",
      "execution_count": 19,
      "metadata": {
        "id": "2Zj_F4tMWG2B"
      },
      "outputs": [],
      "source": [
        "Segment_id = []\n",
        "\n",
        "for segment in databaseFinance['Segment']:\n",
        "  if segment == 'Government':\n",
        "    Segment_id.append(1)\n",
        "  elif segment == 'Midmarket':\n",
        "    Segment_id.append(2)\n",
        "  elif segment == 'Channel Partners':\n",
        "    Segment_id.append(3)\n",
        "  elif segment == 'Enterprise':\n",
        "    Segment_id.append(4)\n",
        "  else:\n",
        "    Segment_id.append(5)\n",
        "\n",
        "databaseFinance['Segment_id'] = Segment_id\n"
      ]
    },
    {
      "cell_type": "markdown",
      "metadata": {},
      "source": [
        "Syntax diatas dilakukan agar mendapatkan kolom Segment_id yang sudah dilakukan looping untuk mengubah data segment yang diingkan (misal Goverment = 1) agar memudahkan pembentukan dan pemanggilan data Primary Key di tabel pembantu dan Foreign Key pada tabel utama."
      ]
    },
    {
      "cell_type": "code",
      "execution_count": 20,
      "metadata": {
        "id": "4yLfgrqJaFw_"
      },
      "outputs": [],
      "source": [
        "Country_id = []\n",
        "\n",
        "for country in databaseFinance['Country']:\n",
        "  if country == 'Canada':\n",
        "    Country_id.append(1)\n",
        "  elif country == 'Germany':\n",
        "    Country_id.append(2)\n",
        "  elif country == 'France':\n",
        "    Country_id.append(3)\n",
        "  elif country == 'Mexico':\n",
        "    Country_id.append(4)\n",
        "  else:\n",
        "    Country_id.append(5)\n",
        "\n",
        "databaseFinance['Country_id'] = Country_id"
      ]
    },
    {
      "cell_type": "markdown",
      "metadata": {},
      "source": [
        "Syntax diatas dilakukan agar mendapatkan kolom Country_id yang sudah dilakukan looping untuk mengubah data country yang diingkan (misal Canada = 1) agar memudahkan pembentukan dan pemanggilan data Primary Key di tabel pembantu dan Foreign Key pada tabel utama."
      ]
    },
    {
      "cell_type": "code",
      "execution_count": 21,
      "metadata": {
        "id": "tdv8Jvb5aGMo"
      },
      "outputs": [],
      "source": [
        "Product_id = []\n",
        "\n",
        "for product in databaseFinance['Product']:\n",
        "  if product == 'Carretera':\n",
        "    Product_id.append(1)\n",
        "  elif product == 'Montana':\n",
        "    Product_id.append(2)\n",
        "  elif product == 'Paseo':\n",
        "    Product_id.append(3)\n",
        "  elif product == 'Velo':\n",
        "    Product_id.append(4)\n",
        "  elif product == 'VTT':\n",
        "    Product_id.append(5)\n",
        "  else:\n",
        "    Product_id.append(6)\n",
        "\n",
        "databaseFinance['Product_id'] = Product_id"
      ]
    },
    {
      "cell_type": "markdown",
      "metadata": {},
      "source": [
        "Syntax diatas dilakukan agar mendapatkan kolom Product_id yang sudah dilakukan looping untuk mengubah data product yang diingkan (misal Goverment = 1) agar memudahkan pembentukan dan pemanggilan data Primary Key di tabel pembantu dan Foreign Key pada tabel utama."
      ]
    },
    {
      "cell_type": "code",
      "execution_count": 22,
      "metadata": {
        "id": "yaJqf55TaGnl"
      },
      "outputs": [],
      "source": [
        "Discount_Band_id = []\n",
        "\n",
        "for discount_band in databaseFinance['Discount Band']:\n",
        "  if discount_band == 'None':\n",
        "    Discount_Band_id.append(1)\n",
        "  elif discount_band == 'Low':\n",
        "    Discount_Band_id.append(2)\n",
        "  elif discount_band == 'Medium':\n",
        "    Discount_Band_id.append(3)\n",
        "  else:\n",
        "    Discount_Band_id.append(4)\n",
        "\n",
        "databaseFinance['Discount_Band_id'] = Discount_Band_id"
      ]
    },
    {
      "cell_type": "markdown",
      "metadata": {},
      "source": [
        "Syntax diatas dilakukan agar mendapatkan kolom Discount_Band_id yang sudah dilakukan looping untuk mengubah data discount_band yang diingkan (misal None = 1) agar memudahkan pembentukan dan pemanggilan data Primary Key di tabel pembantu dan Foreign Key pada tabel utama."
      ]
    },
    {
      "cell_type": "code",
      "execution_count": 23,
      "metadata": {
        "colab": {
          "base_uri": "https://localhost:8080/",
          "height": 614
        },
        "id": "Ef81NCpymHU6",
        "outputId": "b54bf474-801f-4d75-d413-b42515734f2b"
      },
      "outputs": [
        {
          "data": {
            "text/html": [
              "<div>\n",
              "<style scoped>\n",
              "    .dataframe tbody tr th:only-of-type {\n",
              "        vertical-align: middle;\n",
              "    }\n",
              "\n",
              "    .dataframe tbody tr th {\n",
              "        vertical-align: top;\n",
              "    }\n",
              "\n",
              "    .dataframe thead th {\n",
              "        text-align: right;\n",
              "    }\n",
              "</style>\n",
              "<table border=\"1\" class=\"dataframe\">\n",
              "  <thead>\n",
              "    <tr style=\"text-align: right;\">\n",
              "      <th></th>\n",
              "      <th>Segment</th>\n",
              "      <th>Country</th>\n",
              "      <th>Product</th>\n",
              "      <th>Discount Band</th>\n",
              "      <th>Units Sold</th>\n",
              "      <th>Manufacturing Price</th>\n",
              "      <th>Sale Price</th>\n",
              "      <th>Gross Sales</th>\n",
              "      <th>Discounts</th>\n",
              "      <th>Sales</th>\n",
              "      <th>COGS</th>\n",
              "      <th>Profit</th>\n",
              "      <th>Date</th>\n",
              "      <th>Segment_id</th>\n",
              "      <th>Country_id</th>\n",
              "      <th>Product_id</th>\n",
              "      <th>Discount_Band_id</th>\n",
              "    </tr>\n",
              "  </thead>\n",
              "  <tbody>\n",
              "    <tr>\n",
              "      <th>0</th>\n",
              "      <td>Government</td>\n",
              "      <td>Canada</td>\n",
              "      <td>Carretera</td>\n",
              "      <td>None</td>\n",
              "      <td>1618.5</td>\n",
              "      <td>3.0</td>\n",
              "      <td>20.0</td>\n",
              "      <td>32370.0</td>\n",
              "      <td>0.00</td>\n",
              "      <td>32370.00</td>\n",
              "      <td>16185.0</td>\n",
              "      <td>16185.00</td>\n",
              "      <td>2014-01-01</td>\n",
              "      <td>1</td>\n",
              "      <td>1</td>\n",
              "      <td>6</td>\n",
              "      <td>4</td>\n",
              "    </tr>\n",
              "    <tr>\n",
              "      <th>1</th>\n",
              "      <td>Government</td>\n",
              "      <td>Germany</td>\n",
              "      <td>Carretera</td>\n",
              "      <td>None</td>\n",
              "      <td>1321.0</td>\n",
              "      <td>3.0</td>\n",
              "      <td>20.0</td>\n",
              "      <td>26420.0</td>\n",
              "      <td>0.00</td>\n",
              "      <td>26420.00</td>\n",
              "      <td>13210.0</td>\n",
              "      <td>13210.00</td>\n",
              "      <td>2014-01-01</td>\n",
              "      <td>1</td>\n",
              "      <td>2</td>\n",
              "      <td>6</td>\n",
              "      <td>4</td>\n",
              "    </tr>\n",
              "    <tr>\n",
              "      <th>2</th>\n",
              "      <td>Midmarket</td>\n",
              "      <td>France</td>\n",
              "      <td>Carretera</td>\n",
              "      <td>None</td>\n",
              "      <td>2178.0</td>\n",
              "      <td>3.0</td>\n",
              "      <td>15.0</td>\n",
              "      <td>32670.0</td>\n",
              "      <td>0.00</td>\n",
              "      <td>32670.00</td>\n",
              "      <td>21780.0</td>\n",
              "      <td>10890.00</td>\n",
              "      <td>2014-01-06</td>\n",
              "      <td>2</td>\n",
              "      <td>3</td>\n",
              "      <td>6</td>\n",
              "      <td>4</td>\n",
              "    </tr>\n",
              "    <tr>\n",
              "      <th>3</th>\n",
              "      <td>Midmarket</td>\n",
              "      <td>Germany</td>\n",
              "      <td>Carretera</td>\n",
              "      <td>None</td>\n",
              "      <td>888.0</td>\n",
              "      <td>3.0</td>\n",
              "      <td>15.0</td>\n",
              "      <td>13320.0</td>\n",
              "      <td>0.00</td>\n",
              "      <td>13320.00</td>\n",
              "      <td>8880.0</td>\n",
              "      <td>4440.00</td>\n",
              "      <td>2014-01-06</td>\n",
              "      <td>2</td>\n",
              "      <td>2</td>\n",
              "      <td>6</td>\n",
              "      <td>4</td>\n",
              "    </tr>\n",
              "    <tr>\n",
              "      <th>4</th>\n",
              "      <td>Midmarket</td>\n",
              "      <td>Mexico</td>\n",
              "      <td>Carretera</td>\n",
              "      <td>None</td>\n",
              "      <td>2470.0</td>\n",
              "      <td>3.0</td>\n",
              "      <td>15.0</td>\n",
              "      <td>37050.0</td>\n",
              "      <td>0.00</td>\n",
              "      <td>37050.00</td>\n",
              "      <td>24700.0</td>\n",
              "      <td>12350.00</td>\n",
              "      <td>2014-01-06</td>\n",
              "      <td>2</td>\n",
              "      <td>4</td>\n",
              "      <td>6</td>\n",
              "      <td>4</td>\n",
              "    </tr>\n",
              "    <tr>\n",
              "      <th>...</th>\n",
              "      <td>...</td>\n",
              "      <td>...</td>\n",
              "      <td>...</td>\n",
              "      <td>...</td>\n",
              "      <td>...</td>\n",
              "      <td>...</td>\n",
              "      <td>...</td>\n",
              "      <td>...</td>\n",
              "      <td>...</td>\n",
              "      <td>...</td>\n",
              "      <td>...</td>\n",
              "      <td>...</td>\n",
              "      <td>...</td>\n",
              "      <td>...</td>\n",
              "      <td>...</td>\n",
              "      <td>...</td>\n",
              "      <td>...</td>\n",
              "    </tr>\n",
              "    <tr>\n",
              "      <th>695</th>\n",
              "      <td>Small Business</td>\n",
              "      <td>France</td>\n",
              "      <td>Amarilla</td>\n",
              "      <td>High</td>\n",
              "      <td>2475.0</td>\n",
              "      <td>260.0</td>\n",
              "      <td>300.0</td>\n",
              "      <td>742500.0</td>\n",
              "      <td>111375.00</td>\n",
              "      <td>631125.00</td>\n",
              "      <td>618750.0</td>\n",
              "      <td>12375.00</td>\n",
              "      <td>2014-01-03</td>\n",
              "      <td>5</td>\n",
              "      <td>3</td>\n",
              "      <td>6</td>\n",
              "      <td>4</td>\n",
              "    </tr>\n",
              "    <tr>\n",
              "      <th>696</th>\n",
              "      <td>Small Business</td>\n",
              "      <td>Mexico</td>\n",
              "      <td>Amarilla</td>\n",
              "      <td>High</td>\n",
              "      <td>546.0</td>\n",
              "      <td>260.0</td>\n",
              "      <td>300.0</td>\n",
              "      <td>163800.0</td>\n",
              "      <td>24570.00</td>\n",
              "      <td>139230.00</td>\n",
              "      <td>136500.0</td>\n",
              "      <td>2730.00</td>\n",
              "      <td>2014-01-10</td>\n",
              "      <td>5</td>\n",
              "      <td>4</td>\n",
              "      <td>6</td>\n",
              "      <td>4</td>\n",
              "    </tr>\n",
              "    <tr>\n",
              "      <th>697</th>\n",
              "      <td>Government</td>\n",
              "      <td>Mexico</td>\n",
              "      <td>Montana</td>\n",
              "      <td>High</td>\n",
              "      <td>1368.0</td>\n",
              "      <td>5.0</td>\n",
              "      <td>7.0</td>\n",
              "      <td>9576.0</td>\n",
              "      <td>1436.40</td>\n",
              "      <td>8139.60</td>\n",
              "      <td>6840.0</td>\n",
              "      <td>1299.60</td>\n",
              "      <td>2014-01-02</td>\n",
              "      <td>1</td>\n",
              "      <td>4</td>\n",
              "      <td>6</td>\n",
              "      <td>4</td>\n",
              "    </tr>\n",
              "    <tr>\n",
              "      <th>698</th>\n",
              "      <td>Government</td>\n",
              "      <td>Canada</td>\n",
              "      <td>Paseo</td>\n",
              "      <td>High</td>\n",
              "      <td>723.0</td>\n",
              "      <td>10.0</td>\n",
              "      <td>7.0</td>\n",
              "      <td>5061.0</td>\n",
              "      <td>759.15</td>\n",
              "      <td>4301.85</td>\n",
              "      <td>3615.0</td>\n",
              "      <td>686.85</td>\n",
              "      <td>2014-01-04</td>\n",
              "      <td>1</td>\n",
              "      <td>1</td>\n",
              "      <td>6</td>\n",
              "      <td>4</td>\n",
              "    </tr>\n",
              "    <tr>\n",
              "      <th>699</th>\n",
              "      <td>Channel Partners</td>\n",
              "      <td>United States of America</td>\n",
              "      <td>VTT</td>\n",
              "      <td>High</td>\n",
              "      <td>1806.0</td>\n",
              "      <td>250.0</td>\n",
              "      <td>12.0</td>\n",
              "      <td>21672.0</td>\n",
              "      <td>3250.80</td>\n",
              "      <td>18421.20</td>\n",
              "      <td>5418.0</td>\n",
              "      <td>13003.20</td>\n",
              "      <td>2014-01-05</td>\n",
              "      <td>3</td>\n",
              "      <td>5</td>\n",
              "      <td>6</td>\n",
              "      <td>4</td>\n",
              "    </tr>\n",
              "  </tbody>\n",
              "</table>\n",
              "<p>700 rows × 17 columns</p>\n",
              "</div>"
            ],
            "text/plain": [
              "              Segment                   Country      Product Discount Band  \\\n",
              "0          Government                    Canada   Carretera          None    \n",
              "1          Government                   Germany   Carretera          None    \n",
              "2           Midmarket                    France   Carretera          None    \n",
              "3           Midmarket                   Germany   Carretera          None    \n",
              "4           Midmarket                    Mexico   Carretera          None    \n",
              "..                ...                       ...          ...           ...   \n",
              "695    Small Business                    France    Amarilla          High    \n",
              "696    Small Business                    Mexico    Amarilla          High    \n",
              "697        Government                    Mexico     Montana          High    \n",
              "698        Government                    Canada       Paseo          High    \n",
              "699  Channel Partners  United States of America         VTT          High    \n",
              "\n",
              "     Units Sold  Manufacturing Price  Sale Price  Gross Sales  Discounts  \\\n",
              "0        1618.5                  3.0        20.0      32370.0       0.00   \n",
              "1        1321.0                  3.0        20.0      26420.0       0.00   \n",
              "2        2178.0                  3.0        15.0      32670.0       0.00   \n",
              "3         888.0                  3.0        15.0      13320.0       0.00   \n",
              "4        2470.0                  3.0        15.0      37050.0       0.00   \n",
              "..          ...                  ...         ...          ...        ...   \n",
              "695      2475.0                260.0       300.0     742500.0  111375.00   \n",
              "696       546.0                260.0       300.0     163800.0   24570.00   \n",
              "697      1368.0                  5.0         7.0       9576.0    1436.40   \n",
              "698       723.0                 10.0         7.0       5061.0     759.15   \n",
              "699      1806.0                250.0        12.0      21672.0    3250.80   \n",
              "\n",
              "         Sales      COGS    Profit       Date  Segment_id  Country_id  \\\n",
              "0     32370.00   16185.0  16185.00 2014-01-01           1           1   \n",
              "1     26420.00   13210.0  13210.00 2014-01-01           1           2   \n",
              "2     32670.00   21780.0  10890.00 2014-01-06           2           3   \n",
              "3     13320.00    8880.0   4440.00 2014-01-06           2           2   \n",
              "4     37050.00   24700.0  12350.00 2014-01-06           2           4   \n",
              "..         ...       ...       ...        ...         ...         ...   \n",
              "695  631125.00  618750.0  12375.00 2014-01-03           5           3   \n",
              "696  139230.00  136500.0   2730.00 2014-01-10           5           4   \n",
              "697    8139.60    6840.0   1299.60 2014-01-02           1           4   \n",
              "698    4301.85    3615.0    686.85 2014-01-04           1           1   \n",
              "699   18421.20    5418.0  13003.20 2014-01-05           3           5   \n",
              "\n",
              "     Product_id  Discount_Band_id  \n",
              "0             6                 4  \n",
              "1             6                 4  \n",
              "2             6                 4  \n",
              "3             6                 4  \n",
              "4             6                 4  \n",
              "..          ...               ...  \n",
              "695           6                 4  \n",
              "696           6                 4  \n",
              "697           6                 4  \n",
              "698           6                 4  \n",
              "699           6                 4  \n",
              "\n",
              "[700 rows x 17 columns]"
            ]
          },
          "execution_count": 23,
          "metadata": {},
          "output_type": "execute_result"
        }
      ],
      "source": [
        "databaseFinance"
      ]
    },
    {
      "cell_type": "markdown",
      "metadata": {},
      "source": [
        "Melakukan pemanggilan databaseFinance utk mengecek kolom yang sudah ditambahkan."
      ]
    },
    {
      "cell_type": "code",
      "execution_count": 24,
      "metadata": {
        "id": "SaCh-exHunXs"
      },
      "outputs": [],
      "source": [
        "#Tabel Business\n",
        "Business = databaseFinance[['Segment_id', 'Country_id', 'Product_id', 'Discount_Band_id', 'Units Sold',\n",
        "       'Manufacturing Price', 'Sale Price', 'Gross Sales', 'Discounts',\n",
        "       'Sales', 'COGS', 'Profit', 'Date']]\n",
        "\n",
        "\n",
        "\n",
        "Business.to_csv('Business.csv', index=False)"
      ]
    },
    {
      "cell_type": "markdown",
      "metadata": {
        "id": "vT2EYsdPX9Vd"
      },
      "source": [
        "Dalam tahapan ini, membuat tabel utama dengan nama Business yang terdiri dari beberapa kolom, yaitu 'Segment_id', 'Country_id', 'Product_id', 'Discount_ Band_id', 'Units Sold', 'Manufacturing Price', 'Sale Price', 'Gross Sales', 'Discounts', 'Sales', 'COGS', 'Profit', 'Date. Kemudian melakukan convert to csv agar dapat melakukan tahap selamjutnya, yaitu pembuatan tabel menggunakan query sql."
      ]
    },
    {
      "cell_type": "code",
      "execution_count": 99,
      "metadata": {
        "colab": {
          "base_uri": "https://localhost:8080/",
          "height": 17
        },
        "id": "xoLrLZweW8ZH",
        "outputId": "4bebb15b-7dfa-4e99-c35c-e72776c5bc4d"
      },
      "outputs": [
        {
          "data": {
            "application/javascript": "\n    async function download(id, filename, size) {\n      if (!google.colab.kernel.accessAllowed) {\n        return;\n      }\n      const div = document.createElement('div');\n      const label = document.createElement('label');\n      label.textContent = `Downloading \"${filename}\": `;\n      div.appendChild(label);\n      const progress = document.createElement('progress');\n      progress.max = size;\n      div.appendChild(progress);\n      document.body.appendChild(div);\n\n      const buffers = [];\n      let downloaded = 0;\n\n      const channel = await google.colab.kernel.comms.open(id);\n      // Send a message to notify the kernel that we're ready.\n      channel.send({})\n\n      for await (const message of channel.messages) {\n        // Send a message to notify the kernel that we're ready.\n        channel.send({})\n        if (message.buffers) {\n          for (const buffer of message.buffers) {\n            buffers.push(buffer);\n            downloaded += buffer.byteLength;\n            progress.value = downloaded;\n          }\n        }\n      }\n      const blob = new Blob(buffers, {type: 'application/binary'});\n      const a = document.createElement('a');\n      a.href = window.URL.createObjectURL(blob);\n      a.download = filename;\n      div.appendChild(a);\n      a.click();\n      div.remove();\n    }\n  ",
            "text/plain": [
              "<IPython.core.display.Javascript object>"
            ]
          },
          "metadata": {},
          "output_type": "display_data"
        },
        {
          "data": {
            "application/javascript": "download(\"download_067c451b-b48b-4236-8506-6ddee42a4938\", \"Business.csv\", 53333)",
            "text/plain": [
              "<IPython.core.display.Javascript object>"
            ]
          },
          "metadata": {},
          "output_type": "display_data"
        }
      ],
      "source": [
        "from google.colab import files\n",
        "\n",
        "files.download('Business.csv')"
      ]
    },
    {
      "cell_type": "markdown",
      "metadata": {
        "id": "ILxtTo9wYlxU"
      },
      "source": [
        "Melakukan import data Business.csv menjadi format csv. Menggunakan command diatas karena menggunakan google colab."
      ]
    },
    {
      "cell_type": "markdown",
      "metadata": {
        "id": "ZTB3embXaJnQ"
      },
      "source": [
        "#5. Pengujian Database"
      ]
    },
    {
      "cell_type": "markdown",
      "metadata": {},
      "source": [
        "Dalam tahapan ini menguji pemanggilan tabel di dalam databaseFinance apakah dapat dilakukan pemanggilan atau tidak."
      ]
    },
    {
      "cell_type": "markdown",
      "metadata": {},
      "source": [
        "##Jawaban A"
      ]
    },
    {
      "cell_type": "code",
      "execution_count": 25,
      "metadata": {},
      "outputs": [
        {
          "data": {
            "text/html": [
              "<div>\n",
              "<style scoped>\n",
              "    .dataframe tbody tr th:only-of-type {\n",
              "        vertical-align: middle;\n",
              "    }\n",
              "\n",
              "    .dataframe tbody tr th {\n",
              "        vertical-align: top;\n",
              "    }\n",
              "\n",
              "    .dataframe thead th {\n",
              "        text-align: right;\n",
              "    }\n",
              "</style>\n",
              "<table border=\"1\" class=\"dataframe\">\n",
              "  <thead>\n",
              "    <tr style=\"text-align: right;\">\n",
              "      <th></th>\n",
              "      <th>segment</th>\n",
              "      <th>total_profit</th>\n",
              "    </tr>\n",
              "  </thead>\n",
              "  <tbody>\n",
              "    <tr>\n",
              "      <th>0</th>\n",
              "      <td>Government</td>\n",
              "      <td>10270950.18</td>\n",
              "    </tr>\n",
              "    <tr>\n",
              "      <th>1</th>\n",
              "      <td>Midmarket</td>\n",
              "      <td>563253.09</td>\n",
              "    </tr>\n",
              "    <tr>\n",
              "      <th>2</th>\n",
              "      <td>Channel Partners</td>\n",
              "      <td>1150321.14</td>\n",
              "    </tr>\n",
              "    <tr>\n",
              "      <th>3</th>\n",
              "      <td>Enterprise</td>\n",
              "      <td>879096.88</td>\n",
              "    </tr>\n",
              "    <tr>\n",
              "      <th>4</th>\n",
              "      <td>Small Business</td>\n",
              "      <td>3848268.50</td>\n",
              "    </tr>\n",
              "  </tbody>\n",
              "</table>\n",
              "</div>"
            ],
            "text/plain": [
              "            segment  total_profit\n",
              "0        Government   10270950.18\n",
              "1         Midmarket     563253.09\n",
              "2  Channel Partners    1150321.14\n",
              "3        Enterprise     879096.88\n",
              "4    Small Business    3848268.50"
            ]
          },
          "execution_count": 25,
          "metadata": {},
          "output_type": "execute_result"
        }
      ],
      "source": [
        "import pandas as pd\n",
        "\n",
        "# Ganti 'nama_file.csv' dengan nama file CSV yang ingin Anda load\n",
        "df = pd.read_csv('tabel_total_profit_per_segment.csv')\n",
        "\n",
        "# Tampilkan DataFrame\n",
        "df.head()"
      ]
    },
    {
      "cell_type": "markdown",
      "metadata": {},
      "source": [
        "Berdasarkan data diatas dapat dilihat bahwa total profit masing-masing segment yang ada di dalam databaseFinance."
      ]
    },
    {
      "cell_type": "markdown",
      "metadata": {},
      "source": [
        "##Jawaban B"
      ]
    },
    {
      "cell_type": "code",
      "execution_count": 26,
      "metadata": {},
      "outputs": [
        {
          "data": {
            "text/html": [
              "<div>\n",
              "<style scoped>\n",
              "    .dataframe tbody tr th:only-of-type {\n",
              "        vertical-align: middle;\n",
              "    }\n",
              "\n",
              "    .dataframe tbody tr th {\n",
              "        vertical-align: top;\n",
              "    }\n",
              "\n",
              "    .dataframe thead th {\n",
              "        text-align: right;\n",
              "    }\n",
              "</style>\n",
              "<table border=\"1\" class=\"dataframe\">\n",
              "  <thead>\n",
              "    <tr style=\"text-align: right;\">\n",
              "      <th></th>\n",
              "      <th>country</th>\n",
              "      <th>minimum_sales</th>\n",
              "      <th>maximum_sales</th>\n",
              "      <th>average_sales</th>\n",
              "    </tr>\n",
              "  </thead>\n",
              "  <tbody>\n",
              "    <tr>\n",
              "      <th>0</th>\n",
              "      <td>France</td>\n",
              "      <td>1763.86</td>\n",
              "      <td>962500.0</td>\n",
              "      <td>173958.373500</td>\n",
              "    </tr>\n",
              "    <tr>\n",
              "      <th>1</th>\n",
              "      <td>Germany</td>\n",
              "      <td>1685.60</td>\n",
              "      <td>1017338.0</td>\n",
              "      <td>167895.291571</td>\n",
              "    </tr>\n",
              "    <tr>\n",
              "      <th>2</th>\n",
              "      <td>Canada</td>\n",
              "      <td>1655.08</td>\n",
              "      <td>1038082.5</td>\n",
              "      <td>177768.963500</td>\n",
              "    </tr>\n",
              "    <tr>\n",
              "      <th>3</th>\n",
              "      <td>United States of America</td>\n",
              "      <td>1730.54</td>\n",
              "      <td>1159200.0</td>\n",
              "      <td>178784.501286</td>\n",
              "    </tr>\n",
              "    <tr>\n",
              "      <th>4</th>\n",
              "      <td>Mexico</td>\n",
              "      <td>2508.66</td>\n",
              "      <td>848172.5</td>\n",
              "      <td>149638.229357</td>\n",
              "    </tr>\n",
              "  </tbody>\n",
              "</table>\n",
              "</div>"
            ],
            "text/plain": [
              "                    country  minimum_sales  maximum_sales  average_sales\n",
              "0                    France        1763.86       962500.0  173958.373500\n",
              "1                   Germany        1685.60      1017338.0  167895.291571\n",
              "2                    Canada        1655.08      1038082.5  177768.963500\n",
              "3  United States of America        1730.54      1159200.0  178784.501286\n",
              "4                    Mexico        2508.66       848172.5  149638.229357"
            ]
          },
          "execution_count": 26,
          "metadata": {},
          "output_type": "execute_result"
        }
      ],
      "source": [
        "import pandas as pd\n",
        "\n",
        "# Ganti 'nama_file.csv' dengan nama file CSV yang ingin Anda load\n",
        "df = pd.read_csv('tabel_statistik_sales_negara.csv')\n",
        "\n",
        "# Tampilkan DataFrame\n",
        "df.head()"
      ]
    },
    {
      "cell_type": "markdown",
      "metadata": {},
      "source": [
        "Berdasarkan data diatas dapat dilihat bahwa terdapat kolom yang berisikan tentang minimum sales, maximum sales, dan average sales di masing-masing negara di dalam databaseFinance."
      ]
    }
  ],
  "metadata": {
    "colab": {
      "provenance": []
    },
    "kernelspec": {
      "display_name": "Python 3",
      "name": "python3"
    },
    "language_info": {
      "codemirror_mode": {
        "name": "ipython",
        "version": 3
      },
      "file_extension": ".py",
      "mimetype": "text/x-python",
      "name": "python",
      "nbconvert_exporter": "python",
      "pygments_lexer": "ipython3",
      "version": "3.9.18"
    }
  },
  "nbformat": 4,
  "nbformat_minor": 0
}
